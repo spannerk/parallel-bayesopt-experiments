{
 "cells": [
  {
   "cell_type": "code",
   "execution_count": 64,
   "metadata": {},
   "outputs": [],
   "source": [
    "import pandas as pd\n",
    "import os\n",
    "import glob\n",
    "import yaml"
   ]
  },
  {
   "cell_type": "code",
   "execution_count": 69,
   "metadata": {},
   "outputs": [],
   "source": [
    "def mahan(values, means):\n",
    "    '''Mahanalobis distance, based on 5% being 3 SDs away'''\n",
    "    vars = [(1./3600)*(m**2) for m in means]\n",
    "    sqer = [((values[i] - m)**2)/vars[i] for i, m in enumerate(means)]\n",
    "    return sum(sqer)"
   ]
  },
  {
   "cell_type": "code",
   "execution_count": 40,
   "metadata": {},
   "outputs": [],
   "source": [
    "'''\n",
    "Gaussian Process associated functions\n",
    "'''\n",
    "import numpy as np\n",
    "from skopt.learning import GaussianProcessRegressor\n",
    "from skopt.learning.gaussian_process.kernels import Matern, ConstantKernel, WhiteKernel\n",
    "\n",
    "def create_gp(n_dims=3):\n",
    "    '''Create a GP object'''\n",
    "    cov_amplitude = ConstantKernel(1.0, (0.01, 1e8))\n",
    "    matern_kernel = Matern(\n",
    "        length_scale=np.ones(n_dims),\n",
    "        length_scale_bounds=[(0.01, 1e8)]*n_dims, nu=2.5)\n",
    "\n",
    "    kernel = cov_amplitude * matern_kernel + WhiteKernel(noise_level_bounds=(1e-10, 1e2))\n",
    "    gp = GaussianProcessRegressor(\n",
    "        kernel,\n",
    "        n_restarts_optimizer=5,\n",
    "        optimizer='fmin_l_bfgs_b',\n",
    "        normalize_y=True\n",
    "    )\n",
    "    return gp\n"
   ]
  },
  {
   "cell_type": "code",
   "execution_count": 86,
   "metadata": {},
   "outputs": [],
   "source": [
    "class Problem:\n",
    "    pass\n",
    "\n",
    "class SurrogateSimulationProblem(Problem):\n",
    "    def __init__(self, folder, inputs, outputs, output_actuals_names):\n",
    "        self.folder = folder\n",
    "        self.results_df = self.load_trial_results()\n",
    "        self.config = self.load_yaml()\n",
    "        self.inputs = inputs\n",
    "        self.outputs = outputs\n",
    "        self.output_actuals_names = output_actuals_names\n",
    "        self.gps = [self.create_gp(o) for o in self.outputs]\n",
    "\n",
    "    def load_trial_results(self):\n",
    "        results_f = glob.glob(os.path.join(self.folder, '*res-full.csv'))[0]\n",
    "        return pd.read_csv(results_f)\n",
    "    \n",
    "    def load_yaml(self):\n",
    "        config_f = glob.glob(os.path.join(self.folder, '*.yml'))[0]\n",
    "        with open(config_f, 'r', encoding='utf-8') as stream:\n",
    "            return yaml.safe_load(stream)\n",
    "    \n",
    "    def create_gp(self, output_name):\n",
    "        gp = create_gp(n_dims=len(self.inputs))\n",
    "        inputs_df = self.results_df[self.results_df['row-type'] == 'actual'][self.inputs]\n",
    "        output_df = self.results_df[self.results_df['row-type'] == 'actual'][output_name]\n",
    "        gp.fit(inputs_df.values, output_df.values)\n",
    "        return gp\n",
    "    \n",
    "    def evaluate(self, X):\n",
    "\n",
    "        predictions = [gp.sample_y(X, random_state = None) for gp in self.gps]\n",
    "        actuals = [self.config['actuals'][oan] for oan in self.output_actuals_names]\n",
    "\n",
    "        print(\"predictions: {}, actuals: {}\".format(predictions, actuals))\n",
    "\n",
    "        return mahan(predictions, actuals)\n",
    "    \n"
   ]
  },
  {
   "cell_type": "code",
   "execution_count": 87,
   "metadata": {},
   "outputs": [],
   "source": [
    "folder_path = r\"C:\\Users\\hannag01\\OneDrive - NHS Scotland\\Whole System Modelling\\Calibration\\Highland\\Highland-2024-07-10\""
   ]
  },
  {
   "cell_type": "code",
   "execution_count": 88,
   "metadata": {},
   "outputs": [],
   "source": [
    "p = SurrogateSimulationProblem(folder_path, inputs = ['dd-los', 'gw-non-covid-los', 'syswatch-scale'],\n",
    "                                outputs = ['emergency-output', 'delay-output'],\n",
    "                                output_actuals_names=['emergency', 'delays'])"
   ]
  },
  {
   "cell_type": "code",
   "execution_count": 90,
   "metadata": {},
   "outputs": [],
   "source": [
    "test_X_min = np.array([73.92173248,  5,  0.75 ]).reshape(1, -1)"
   ]
  },
  {
   "cell_type": "code",
   "execution_count": 91,
   "metadata": {},
   "outputs": [
    {
     "name": "stdout",
     "output_type": "stream",
     "text": [
      "predictions: [array([[391.55551283]]), array([[101.02608642]])], actuals: [381.0, 104.0]\n",
      "[[5.706886]]\n",
      "predictions: [array([[387.81881737]]), array([[102.24619276]])], actuals: [381.0, 104.0]\n",
      "[[2.17687307]]\n",
      "predictions: [array([[387.81667654]]), array([[97.99184584]])], actuals: [381.0, 104.0]\n",
      "[[13.16722489]]\n",
      "predictions: [array([[392.23887311]]), array([[105.66063773]])], actuals: [381.0, 104.0]\n",
      "[[4.05042993]]\n",
      "predictions: [array([[394.3566917]]), array([[102.64048633]])], actuals: [381.0, 104.0]\n",
      "[[5.03954003]]\n",
      "predictions: [array([[390.65523557]]), array([[104.02965449]])], actuals: [381.0, 104.0]\n",
      "[[2.31224196]]\n",
      "predictions: [array([[383.95961428]]), array([[102.08358647]])], actuals: [381.0, 104.0]\n",
      "[[1.43963412]]\n",
      "predictions: [array([[390.72472228]]), array([[99.68012903]])], actuals: [381.0, 104.0]\n",
      "[[8.55657281]]\n",
      "predictions: [array([[394.79887662]]), array([[101.51985728]])], actuals: [381.0, 104.0]\n",
      "[[6.76948875]]\n",
      "predictions: [array([[385.85426887]]), array([[103.34943071]])], actuals: [381.0, 104.0]\n",
      "[[0.72525798]]\n"
     ]
    }
   ],
   "source": [
    "for i in range(10):\n",
    "    print(p.evaluate(test_X_min))"
   ]
  },
  {
   "cell_type": "code",
   "execution_count": null,
   "metadata": {},
   "outputs": [],
   "source": []
  }
 ],
 "metadata": {
  "kernelspec": {
   "display_name": "venv",
   "language": "python",
   "name": "python3"
  },
  "language_info": {
   "codemirror_mode": {
    "name": "ipython",
    "version": 3
   },
   "file_extension": ".py",
   "mimetype": "text/x-python",
   "name": "python",
   "nbconvert_exporter": "python",
   "pygments_lexer": "ipython3",
   "version": "3.10.11"
  }
 },
 "nbformat": 4,
 "nbformat_minor": 2
}
