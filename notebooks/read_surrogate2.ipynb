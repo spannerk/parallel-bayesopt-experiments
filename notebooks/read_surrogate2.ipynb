{
 "cells": [
  {
   "cell_type": "code",
   "execution_count": 2,
   "metadata": {},
   "outputs": [
    {
     "name": "stdout",
     "output_type": "stream",
     "text": [
      "C:\\Users\\hannag01\\Documents\\wsm-calibration\n"
     ]
    },
    {
     "name": "stderr",
     "output_type": "stream",
     "text": [
      "c:\\Users\\hannag01\\Documents\\parallel-bayesopt-experiments\\venv\\lib\\site-packages\\IPython\\core\\magics\\osm.py:417: UserWarning: This is now an optional IPython functionality, setting dhist requires you to install the `pickleshare` library.\n",
      "  self.shell.db['dhist'] = compress_dhist(dhist)[-100:]\n"
     ]
    }
   ],
   "source": [
    "cd C:\\Users\\hannag01\\Documents\\wsm-calibration\\"
   ]
  },
  {
   "cell_type": "code",
   "execution_count": 3,
   "metadata": {},
   "outputs": [],
   "source": [
    "import pandas as pd\n",
    "import os\n",
    "import numpy as np\n",
    "from ax.service.ax_client import AxClient, ObjectiveProperties"
   ]
  },
  {
   "cell_type": "code",
   "execution_count": 33,
   "metadata": {},
   "outputs": [],
   "source": [
    "from src.problems.surrogate import SurrogateProblem\n",
    "from src.problems.surrogate_local import MultiFolderSurrogateProblem"
   ]
  },
  {
   "cell_type": "code",
   "execution_count": 34,
   "metadata": {},
   "outputs": [],
   "source": [
    "# folder_path = r\"C:\\Users\\hannag01\\OneDrive - NHS Scotland\\Whole System Modelling\\Calibration\\Highland\\Highland-2024-07-10\"\n",
    "# folder_path = r\"C:\\Users\\hannag01\\OneDrive - NHS Scotland\\Whole System Modelling\\Calibration\\Benchmarks\\Highland-2024-07-16_1_a\"\n",
    "folder_path = r\"C:\\Users\\hannag01\\OneDrive - NHS Scotland\\Whole System Modelling\\Calibration\\Benchmarks\\Highland-2024-07-16_11_*\""
   ]
  },
  {
   "cell_type": "code",
   "execution_count": 35,
   "metadata": {},
   "outputs": [
    {
     "name": "stderr",
     "output_type": "stream",
     "text": [
      "c:\\Users\\hannag01\\Documents\\parallel-bayesopt-experiments\\venv\\lib\\site-packages\\sklearn\\gaussian_process\\kernels.py:455: ConvergenceWarning: The optimal value found for dimension 0 of parameter k1__k2__length_scale is close to the specified upper bound 100000000.0. Increasing the bound and calling fit again may find a better value.\n",
      "  warnings.warn(\n"
     ]
    }
   ],
   "source": [
    "# p = SurrogateProblem(folder_path)\n",
    "p = MultiFolderSurrogateProblem(folder_path)"
   ]
  },
  {
   "cell_type": "code",
   "execution_count": 36,
   "metadata": {},
   "outputs": [
    {
     "data": {
      "text/plain": [
       "{'k1': 1**2 * Matern(length_scale=[1, 1, 1], nu=2.5),\n",
       " 'k2': WhiteKernel(noise_level=1),\n",
       " 'k1__k1': 1**2,\n",
       " 'k1__k2': Matern(length_scale=[1, 1, 1], nu=2.5),\n",
       " 'k1__k1__constant_value': 1.0,\n",
       " 'k1__k1__constant_value_bounds': (0.01, 100000000.0),\n",
       " 'k1__k2__length_scale': array([1., 1., 1.]),\n",
       " 'k1__k2__length_scale_bounds': [(0.01, 100000000.0),\n",
       "  (0.01, 100000000.0),\n",
       "  (0.01, 100000000.0)],\n",
       " 'k1__k2__nu': 2.5,\n",
       " 'k2__noise_level': 1.0,\n",
       " 'k2__noise_level_bounds': (1e-10, 100.0)}"
      ]
     },
     "execution_count": 36,
     "metadata": {},
     "output_type": "execute_result"
    }
   ],
   "source": [
    "p.gps['delay-output'].kernel.get_params()"
   ]
  },
  {
   "cell_type": "code",
   "execution_count": 30,
   "metadata": {},
   "outputs": [],
   "source": [
    "mygp = p.gps['delay-output']"
   ]
  },
  {
   "cell_type": "code",
   "execution_count": 37,
   "metadata": {},
   "outputs": [
    {
     "data": {
      "text/plain": [
       "1.27**2 * Matern(length_scale=[34.9, 26.2, 5.23e+04], nu=2.5) + WhiteKernel(noise_level=0.0175)"
      ]
     },
     "execution_count": 37,
     "metadata": {},
     "output_type": "execute_result"
    }
   ],
   "source": [
    "p.gps['delay-output'].kernel_"
   ]
  },
  {
   "cell_type": "code",
   "execution_count": 38,
   "metadata": {},
   "outputs": [
    {
     "data": {
      "text/plain": [
       "4.08**2 * Matern(length_scale=[1e+08, 26.5, 2.09], nu=2.5) + WhiteKernel(noise_level=0.000301)"
      ]
     },
     "execution_count": 38,
     "metadata": {},
     "output_type": "execute_result"
    }
   ],
   "source": [
    "p.gps['emergency-output'].kernel_"
   ]
  },
  {
   "cell_type": "code",
   "execution_count": 7,
   "metadata": {},
   "outputs": [],
   "source": [
    "def prop_from_actual(value, actual):\n",
    "    return np.absolute(value - actual) / actual"
   ]
  },
  {
   "cell_type": "code",
   "execution_count": 8,
   "metadata": {},
   "outputs": [
    {
     "data": {
      "text/plain": [
       "0.01734521433070865"
      ]
     },
     "execution_count": 8,
     "metadata": {},
     "output_type": "execute_result"
    }
   ],
   "source": [
    "prop_from_actual(387.60852666, 381.0)"
   ]
  },
  {
   "cell_type": "code",
   "execution_count": 9,
   "metadata": {},
   "outputs": [
    {
     "data": {
      "text/plain": [
       "6.6085266599999954"
      ]
     },
     "execution_count": 9,
     "metadata": {},
     "output_type": "execute_result"
    }
   ],
   "source": [
    "np.absolute(387.60852666 - 381.0)"
   ]
  },
  {
   "cell_type": "code",
   "execution_count": 10,
   "metadata": {},
   "outputs": [
    {
     "data": {
      "text/plain": [
       "{'emergency': 381.0, 'delays': 104.0}"
      ]
     },
     "execution_count": 10,
     "metadata": {},
     "output_type": "execute_result"
    }
   ],
   "source": [
    "p.config['actuals']"
   ]
  },
  {
   "cell_type": "code",
   "execution_count": 11,
   "metadata": {},
   "outputs": [
    {
     "name": "stderr",
     "output_type": "stream",
     "text": [
      "[INFO 07-23 12:11:20] ax.service.ax_client: Starting optimization with verbose logging. To disable logging, set the `verbose_logging` argument to `False`. Note that float values in the logs are rounded to 6 decimal points.\n",
      "[INFO 07-23 12:11:20] ax.service.utils.instantiation: Inferred value type of ParameterType.FLOAT for parameter gw-non-covid-los. If that is not the expected value type, you can explicitly specify 'value_type' ('int', 'float', 'bool' or 'str') in parameter dict.\n",
      "[INFO 07-23 12:11:20] ax.service.utils.instantiation: Inferred value type of ParameterType.FLOAT for parameter syswatch-scale. If that is not the expected value type, you can explicitly specify 'value_type' ('int', 'float', 'bool' or 'str') in parameter dict.\n",
      "[INFO 07-23 12:11:20] ax.service.utils.instantiation: Created search space: SearchSpace(parameters=[RangeParameter(name='dd-los', parameter_type=FLOAT, range=[20.0, 80.0]), RangeParameter(name='gw-non-covid-los', parameter_type=FLOAT, range=[5.0, 8.0]), RangeParameter(name='syswatch-scale', parameter_type=FLOAT, range=[0.75, 1.0])], parameter_constraints=[]).\n",
      "[INFO 07-23 12:11:20] ax.modelbridge.dispatch_utils: Using Models.BOTORCH_MODULAR since there is at least one ordered parameter and there are no unordered categorical parameters.\n",
      "[INFO 07-23 12:11:20] ax.modelbridge.dispatch_utils: Calculating the number of remaining initialization trials based on num_initialization_trials=None max_initialization_trials=None num_tunable_parameters=3 num_trials=None use_batch_trials=False\n",
      "[INFO 07-23 12:11:20] ax.modelbridge.dispatch_utils: calculated num_initialization_trials=6\n",
      "[INFO 07-23 12:11:20] ax.modelbridge.dispatch_utils: num_completed_initialization_trials=0 num_remaining_initialization_trials=6\n",
      "[INFO 07-23 12:11:20] ax.modelbridge.dispatch_utils: `verbose`, `disable_progbar`, and `jit_compile` are not yet supported when using `choose_generation_strategy` with ModularBoTorchModel, dropping these arguments.\n",
      "[INFO 07-23 12:11:20] ax.modelbridge.dispatch_utils: Using Bayesian Optimization generation strategy: GenerationStrategy(name='Sobol+BoTorch', steps=[Sobol for 6 trials, BoTorch for subsequent trials]). Iterations after 6 will take longer to generate due to model-fitting.\n"
     ]
    }
   ],
   "source": [
    "ax_client = AxClient()\n",
    "ax_client.create_experiment(\n",
    "    parameters=[\n",
    "        {\n",
    "            \"name\": \"dd-los\",\n",
    "            \"type\": \"range\",\n",
    "            \"bounds\": [20.0, 80.0],\n",
    "            \"value_type\": \"float\",  \n",
    "            \"log_scale\": False,\n",
    "        },\n",
    "        {\n",
    "            \"name\": \"gw-non-covid-los\",\n",
    "            \"type\": \"range\",\n",
    "            \"bounds\": [5.0, 8.0],\n",
    "        },\n",
    "        {\n",
    "            \"name\": \"syswatch-scale\",\n",
    "            \"type\": \"range\",\n",
    "            \"bounds\": [0.75, 1.0],\n",
    "        }\n",
    "    ],\n",
    "    name=\"ax_surrogate_default_multi\",\n",
    "    objectives={\"emergency_from_actual\": ObjectiveProperties(minimize=True, threshold=0.05), \"delays_from_actual\": ObjectiveProperties(minimize=True, threshold=0.05)},\n",
    "    tracking_metric_names=['emergencies', 'delays', 'error']\n",
    ")"
   ]
  },
  {
   "cell_type": "code",
   "execution_count": 12,
   "metadata": {},
   "outputs": [],
   "source": [
    "def mahan(values, means):\n",
    "    '''Mahanalobis distance, based on 5% being 3 SDs away'''\n",
    "    vars = [(1./3600)*(m**2) for m in means]\n",
    "    sqer = [((values[i] - m)**2)/vars[i] for i, m in enumerate(means)]\n",
    "    return sum(sqer)\n"
   ]
  },
  {
   "cell_type": "code",
   "execution_count": 13,
   "metadata": {},
   "outputs": [
    {
     "name": "stderr",
     "output_type": "stream",
     "text": [
      "[INFO 07-23 12:11:21] ax.service.ax_client: Generated new trial 0 with parameters {'dd-los': 69.481016, 'gw-non-covid-los': 6.005222, 'syswatch-scale': 0.776319} using model Sobol.\n",
      "[INFO 07-23 12:11:21] ax.service.ax_client: Completed trial 0 with data: {'emergency_from_actual': (0.182525, None), 'delays_from_actual': (0.085149, None), 'emergencies': (450.542069, None), 'delays': (95.144525, None), 'error': (146.03665, None)}.\n",
      "[INFO 07-23 12:11:21] ax.service.ax_client: Generated new trial 1 with parameters {'dd-los': 30.040408, 'gw-non-covid-los': 7.142686, 'syswatch-scale': 0.776483} using model Sobol.\n",
      "[INFO 07-23 12:11:21] ax.service.ax_client: Completed trial 1 with data: {'emergency_from_actual': (0.357352, None), 'delays_from_actual': (0.638582, None), 'emergencies': (517.15113, None), 'delays': (37.58745, None), 'error': (1927.755809, None)}.\n",
      "[INFO 07-23 12:11:21] ax.service.ax_client: Generated new trial 2 with parameters {'dd-los': 62.54348, 'gw-non-covid-los': 6.682563, 'syswatch-scale': 0.788153} using model Sobol.\n",
      "[INFO 07-23 12:11:21] ax.service.ax_client: Completed trial 2 with data: {'emergency_from_actual': (0.298734, None), 'delays_from_actual': (0.195164, None), 'emergencies': (494.817731, None), 'delays': (83.702933, None), 'error': (458.392148, None)}.\n",
      "[INFO 07-23 12:11:21] ax.service.ax_client: Generated new trial 3 with parameters {'dd-los': 20.584786, 'gw-non-covid-los': 7.986056, 'syswatch-scale': 0.765066} using model Sobol.\n",
      "[INFO 07-23 12:11:21] ax.service.ax_client: Completed trial 3 with data: {'emergency_from_actual': (0.492435, None), 'delays_from_actual': (0.786681, None), 'emergencies': (568.617552, None), 'delays': (22.18519, None), 'error': (3100.890725, None)}.\n",
      "[INFO 07-23 12:11:21] ax.service.ax_client: Generated new trial 4 with parameters {'dd-los': 42.009471, 'gw-non-covid-los': 7.374014, 'syswatch-scale': 0.750372} using model Sobol.\n",
      "[INFO 07-23 12:11:21] ax.service.ax_client: Completed trial 4 with data: {'emergency_from_actual': (0.372287, None), 'delays_from_actual': (0.503646, None), 'emergencies': (522.84149, None), 'delays': (51.620835, None), 'error': (1412.125199, None)}.\n",
      "[INFO 07-23 12:11:21] ax.service.ax_client: Generated new trial 5 with parameters {'dd-los': 54.421844, 'gw-non-covid-los': 7.763037, 'syswatch-scale': 0.893382} using model Sobol.\n",
      "[INFO 07-23 12:11:21] ax.service.ax_client: Completed trial 5 with data: {'emergency_from_actual': (0.438359, None), 'delays_from_actual': (0.27971, None), 'emergencies': (548.01487, None), 'delays': (74.910161, None), 'error': (973.427404, None)}.\n",
      "[INFO 07-23 12:11:25] ax.service.ax_client: Generated new trial 6 with parameters {'dd-los': 75.53747, 'gw-non-covid-los': 5.158298, 'syswatch-scale': 0.818134} using model BoTorch.\n",
      "[INFO 07-23 12:11:25] ax.service.ax_client: Completed trial 6 with data: {'emergency_from_actual': (0.058748, None), 'delays_from_actual': (0.006355, None), 'emergencies': (403.383107, None), 'delays': (103.33911, None), 'error': (12.570288, None)}.\n",
      "[INFO 07-23 12:11:30] ax.service.ax_client: Generated new trial 7 with parameters {'dd-los': 80.0, 'gw-non-covid-los': 5.0, 'syswatch-scale': 0.773804} using model BoTorch.\n",
      "[INFO 07-23 12:11:30] ax.service.ax_client: Completed trial 7 with data: {'emergency_from_actual': (0.031226, None), 'delays_from_actual': (0.039333, None), 'emergencies': (392.897125, None), 'delays': (99.909357, None), 'error': (9.079774, None)}.\n",
      "[INFO 07-23 12:11:33] ax.service.ax_client: Generated new trial 8 with parameters {'dd-los': 64.936918, 'gw-non-covid-los': 5.0, 'syswatch-scale': 0.780127} using model BoTorch.\n",
      "[INFO 07-23 12:11:34] ax.service.ax_client: Completed trial 8 with data: {'emergency_from_actual': (0.036593, None), 'delays_from_actual': (0.081367, None), 'emergencies': (394.941897, None), 'delays': (95.537829, None), 'error': (28.654682, None)}.\n",
      "[INFO 07-23 12:11:39] ax.service.ax_client: Generated new trial 9 with parameters {'dd-los': 75.952396, 'gw-non-covid-los': 5.0, 'syswatch-scale': 0.797095} using model BoTorch.\n",
      "[INFO 07-23 12:11:39] ax.service.ax_client: Completed trial 9 with data: {'emergency_from_actual': (0.028628, None), 'delays_from_actual': (0.006429, None), 'emergencies': (391.907127, None), 'delays': (103.331341, None), 'error': (3.099162, None)}.\n",
      "[INFO 07-23 12:11:50] ax.service.ax_client: Generated new trial 10 with parameters {'dd-los': 74.150785, 'gw-non-covid-los': 5.0, 'syswatch-scale': 0.784493} using model BoTorch.\n",
      "[INFO 07-23 12:11:50] ax.service.ax_client: Completed trial 10 with data: {'emergency_from_actual': (0.038007, None), 'delays_from_actual': (0.054796, None), 'emergencies': (395.480583, None), 'delays': (109.698822, None), 'error': (16.009765, None)}.\n",
      "[INFO 07-23 12:12:03] ax.service.ax_client: Generated new trial 11 with parameters {'dd-los': 80.0, 'gw-non-covid-los': 5.0, 'syswatch-scale': 0.81174} using model BoTorch.\n",
      "[INFO 07-23 12:12:04] ax.service.ax_client: Completed trial 11 with data: {'emergency_from_actual': (0.021298, None), 'delays_from_actual': (0.009415, None), 'emergencies': (389.114451, None), 'delays': (104.979135, None), 'error': (1.952038, None)}.\n",
      "[INFO 07-23 12:12:19] ax.service.ax_client: Generated new trial 12 with parameters {'dd-los': 80.0, 'gw-non-covid-los': 5.0, 'syswatch-scale': 0.885302} using model BoTorch.\n",
      "[INFO 07-23 12:12:19] ax.service.ax_client: Completed trial 12 with data: {'emergency_from_actual': (0.012224, None), 'delays_from_actual': (0.065957, None), 'emergencies': (385.657369, None), 'delays': (97.140492, None), 'error': (16.19902, None)}.\n",
      "[INFO 07-23 12:12:27] ax.service.ax_client: Generated new trial 13 with parameters {'dd-los': 46.059074, 'gw-non-covid-los': 5.0, 'syswatch-scale': 0.976954} using model BoTorch.\n",
      "[INFO 07-23 12:12:27] ax.service.ax_client: Completed trial 13 with data: {'emergency_from_actual': (0.015924, None), 'delays_from_actual': (0.383894, None), 'emergencies': (387.0672, None), 'delays': (64.075065, None), 'error': (531.460392, None)}.\n",
      "[INFO 07-23 12:12:33] ax.service.ax_client: Generated new trial 14 with parameters {'dd-los': 80.0, 'gw-non-covid-los': 5.0, 'syswatch-scale': 1.0} using model BoTorch.\n",
      "[INFO 07-23 12:12:33] ax.service.ax_client: Completed trial 14 with data: {'emergency_from_actual': (0.023078, None), 'delays_from_actual': (0.022195, None), 'emergencies': (389.792616, None), 'delays': (101.691679, None), 'error': (3.690782, None)}.\n",
      "[INFO 07-23 12:12:44] ax.service.ax_client: Generated new trial 15 with parameters {'dd-los': 80.0, 'gw-non-covid-los': 5.0, 'syswatch-scale': 0.959756} using model BoTorch.\n",
      "[INFO 07-23 12:12:44] ax.service.ax_client: Completed trial 15 with data: {'emergency_from_actual': (0.02308, None), 'delays_from_actual': (0.029639, None), 'emergencies': (389.79363, None), 'delays': (100.917564, None), 'error': (5.080188, None)}.\n",
      "c:\\Users\\hannag01\\Documents\\parallel-bayesopt-experiments\\venv\\lib\\site-packages\\linear_operator\\utils\\cholesky.py:40: NumericalWarning: A not p.d., added jitter of 1.0e-08 to the diagonal\n",
      "  warnings.warn(\n",
      "[INFO 07-23 12:12:59] ax.service.ax_client: Generated new trial 16 with parameters {'dd-los': 80.0, 'gw-non-covid-los': 5.0, 'syswatch-scale': 0.837046} using model BoTorch.\n",
      "[INFO 07-23 12:12:59] ax.service.ax_client: Completed trial 16 with data: {'emergency_from_actual': (0.032881, None), 'delays_from_actual': (0.042928, None), 'emergencies': (393.527628, None), 'delays': (99.535526, None), 'error': (10.526169, None)}.\n",
      "c:\\Users\\hannag01\\Documents\\parallel-bayesopt-experiments\\venv\\lib\\site-packages\\linear_operator\\utils\\cholesky.py:40: NumericalWarning: A not p.d., added jitter of 1.0e-08 to the diagonal\n",
      "  warnings.warn(\n",
      "[INFO 07-23 12:13:11] ax.service.ax_client: Generated new trial 17 with parameters {'dd-los': 71.701618, 'gw-non-covid-los': 5.0, 'syswatch-scale': 0.973577} using model BoTorch.\n",
      "[INFO 07-23 12:13:11] ax.service.ax_client: Completed trial 17 with data: {'emergency_from_actual': (0.028405, None), 'delays_from_actual': (0.01873, None), 'emergencies': (391.822383, None), 'delays': (105.947908, None), 'error': (4.167591, None)}.\n",
      "[INFO 07-23 12:13:22] ax.service.ax_client: Generated new trial 18 with parameters {'dd-los': 69.435763, 'gw-non-covid-los': 5.0, 'syswatch-scale': 0.880012} using model BoTorch.\n",
      "[INFO 07-23 12:13:22] ax.service.ax_client: Completed trial 18 with data: {'emergency_from_actual': (0.02156, None), 'delays_from_actual': (0.011775, None), 'emergencies': (389.214387, None), 'delays': (105.224554, None), 'error': (2.172516, None)}.\n",
      "[INFO 07-23 12:13:36] ax.service.ax_client: Generated new trial 19 with parameters {'dd-los': 72.60725, 'gw-non-covid-los': 5.0, 'syswatch-scale': 0.924606} using model BoTorch.\n",
      "[INFO 07-23 12:13:36] ax.service.ax_client: Completed trial 19 with data: {'emergency_from_actual': (0.02444, None), 'delays_from_actual': (0.042528, None), 'emergencies': (390.311731, None), 'delays': (99.577139, None), 'error': (8.661292, None)}.\n"
     ]
    }
   ],
   "source": [
    "for i in range(20):\n",
    "    parameterization, trial_index = ax_client.get_next_trial()\n",
    "    sample = p.sample_outputs([parameterization.get(ipt) for ipt in p.inputs])\n",
    "    trial_result = {'emergency_from_actual': prop_from_actual(sample['emergency-output'][0], p.config['actuals']['emergency'])\n",
    "                    , 'delays_from_actual': prop_from_actual(sample['delay-output'][0], p.config['actuals']['delays'])\n",
    "                    , 'emergencies': sample['emergency-output'][0]\n",
    "                    , 'delays': sample['delay-output'][0]\n",
    "                    , 'error': mahan([sample['emergency-output'][0], sample['delay-output'][0]], [p.config['actuals']['emergency'], p.config['actuals']['delays']])\n",
    "                    }\n",
    "    ax_client.complete_trial(trial_index=trial_index, raw_data=trial_result)\n",
    "    # ax_client.save_to_json_file(os.path.join(output_folder, 'ax_default', \"ax_client_after_trial_{}.json\".format(i)))"
   ]
  },
  {
   "cell_type": "code",
   "execution_count": 14,
   "metadata": {},
   "outputs": [
    {
     "data": {
      "text/plain": [
       "OrderedDict([(18,\n",
       "              ({'dd-los': 69.43576291838708,\n",
       "                'gw-non-covid-los': 5.0,\n",
       "                'syswatch-scale': 0.88001172400287},\n",
       "               ({'delays': 103.07744654698064,\n",
       "                 'delays_from_actual': 0.020835363767784137,\n",
       "                 'emergencies': 389.909316611623,\n",
       "                 'emergency_from_actual': 0.023384036456086665,\n",
       "                 'error': 3.4853167322953595},\n",
       "                {'delays': {'delays': 5.582497281462046,\n",
       "                  'delays_from_actual': 0.0,\n",
       "                  'emergencies': 0.0,\n",
       "                  'emergency_from_actual': 0.0,\n",
       "                  'error': 0.0},\n",
       "                 'delays_from_actual': {'delays': 0.0,\n",
       "                  'delays_from_actual': 0.00019230262479701555,\n",
       "                  'emergencies': 0.0,\n",
       "                  'emergency_from_actual': 0.0,\n",
       "                  'error': 0.0},\n",
       "                 'emergencies': {'delays': 0.0,\n",
       "                  'delays_from_actual': 0.0,\n",
       "                  'emergencies': 3.3497600732060566,\n",
       "                  'emergency_from_actual': 0.0,\n",
       "                  'error': 0.0},\n",
       "                 'emergency_from_actual': {'delays': 0.0,\n",
       "                  'delays_from_actual': 0.0,\n",
       "                  'emergencies': 0.0,\n",
       "                  'emergency_from_actual': 2.3076368400635804e-05,\n",
       "                  'error': 0.0},\n",
       "                 'error': {'delays': 0.0,\n",
       "                  'delays_from_actual': 0.0,\n",
       "                  'emergencies': 0.0,\n",
       "                  'emergency_from_actual': 0.0,\n",
       "                  'error': 63.0468224033989}}))),\n",
       "             (19,\n",
       "              ({'dd-los': 72.60725041166074,\n",
       "                'gw-non-covid-los': 5.0,\n",
       "                'syswatch-scale': 0.9246064753528535},\n",
       "               ({'delays': 102.80179899033602,\n",
       "                 'delays_from_actual': 0.03218902587412159,\n",
       "                 'emergencies': 389.55401650713554,\n",
       "                 'emergency_from_actual': 0.022451481211947233,\n",
       "                 'error': 6.415427937079016},\n",
       "                {'delays': {'delays': 3.8257099546830506,\n",
       "                  'delays_from_actual': 0.0,\n",
       "                  'emergencies': 0.0,\n",
       "                  'emergency_from_actual': 0.0,\n",
       "                  'error': 0.0},\n",
       "                 'delays_from_actual': {'delays': 0.0,\n",
       "                  'delays_from_actual': 0.00014254075104351075,\n",
       "                  'emergencies': 0.0,\n",
       "                  'emergency_from_actual': 0.0,\n",
       "                  'error': 0.0},\n",
       "                 'emergencies': {'delays': 0.0,\n",
       "                  'delays_from_actual': 0.0,\n",
       "                  'emergencies': 2.259678828234024,\n",
       "                  'emergency_from_actual': 0.0,\n",
       "                  'error': 0.0},\n",
       "                 'emergency_from_actual': {'delays': 0.0,\n",
       "                  'delays_from_actual': 0.0,\n",
       "                  'emergencies': 0.0,\n",
       "                  'emergency_from_actual': 1.5566844151214218e-05,\n",
       "                  'error': 0.0},\n",
       "                 'error': {'delays': 0.0,\n",
       "                  'delays_from_actual': 0.0,\n",
       "                  'emergencies': 0.0,\n",
       "                  'emergency_from_actual': 0.0,\n",
       "                  'error': 53.249621171041404}}))),\n",
       "             (15,\n",
       "              ({'dd-los': 80.0,\n",
       "                'gw-non-covid-los': 5.0,\n",
       "                'syswatch-scale': 0.9597563975358816},\n",
       "               ({'delays': 100.15779561157126,\n",
       "                 'delays_from_actual': 0.03487433134346271,\n",
       "                 'emergencies': 389.17075580949535,\n",
       "                 'emergency_from_actual': 0.021445557192913786,\n",
       "                 'error': 6.286065987844552},\n",
       "                {'delays': {'delays': 4.3905768797625075,\n",
       "                  'delays_from_actual': 0.0,\n",
       "                  'emergencies': 0.0,\n",
       "                  'emergency_from_actual': 0.0,\n",
       "                  'error': 0.0},\n",
       "                 'delays_from_actual': {'delays': 0.0,\n",
       "                  'delays_from_actual': 0.00016826667763371865,\n",
       "                  'emergencies': 0.0,\n",
       "                  'emergency_from_actual': 0.0,\n",
       "                  'error': 0.0},\n",
       "                 'emergencies': {'delays': 0.0,\n",
       "                  'delays_from_actual': 0.0,\n",
       "                  'emergencies': 2.8245058689124805,\n",
       "                  'emergency_from_actual': 0.0,\n",
       "                  'error': 0.0},\n",
       "                 'emergency_from_actual': {'delays': 0.0,\n",
       "                  'delays_from_actual': 0.0,\n",
       "                  'emergencies': 0.0,\n",
       "                  'emergency_from_actual': 1.945790625053864e-05,\n",
       "                  'error': 0.0},\n",
       "                 'error': {'delays': 0.0,\n",
       "                  'delays_from_actual': 0.0,\n",
       "                  'emergencies': 0.0,\n",
       "                  'emergency_from_actual': 0.0,\n",
       "                  'error': 54.25010780920289}})))])"
      ]
     },
     "execution_count": 14,
     "metadata": {},
     "output_type": "execute_result"
    }
   ],
   "source": [
    "ax_client.get_pareto_optimal_parameters()"
   ]
  },
  {
   "cell_type": "code",
   "execution_count": 15,
   "metadata": {},
   "outputs": [
    {
     "data": {
      "text/plain": [
       "MultiObjective(objectives=[Objective(metric_name=\"emergency_from_actual\", minimize=True), Objective(metric_name=\"delays_from_actual\", minimize=True)])"
      ]
     },
     "execution_count": 15,
     "metadata": {},
     "output_type": "execute_result"
    }
   ],
   "source": [
    "ax_client.experiment.optimization_config.objective"
   ]
  },
  {
   "cell_type": "code",
   "execution_count": 16,
   "metadata": {},
   "outputs": [],
   "source": [
    "from ax.plot.pareto_frontier import plot_pareto_frontier\n",
    "from ax.plot.pareto_utils import compute_posterior_pareto_frontier\n",
    "# Plotting imports and initialization\n",
    "from ax.utils.notebook.plotting import init_notebook_plotting, render"
   ]
  },
  {
   "cell_type": "code",
   "execution_count": 17,
   "metadata": {},
   "outputs": [
    {
     "data": {
      "application/vnd.plotly.v1+json": {
       "config": {
        "linkText": "Export to plot.ly",
        "plotlyServerURL": "https://plot.ly",
        "showLink": false
       },
       "data": [
        {
         "error_x": {
          "array": [
           0.03320246647097079,
           0.027526230740598803,
           0.025536457723513498,
           0.0251260421300076,
           0.026985634455598716,
           0.025140223766575095,
           0.02742492998842287,
           0.025031008307802784,
           0.02547689476984125,
           0.028344939450020458,
           0.030522297351125858,
           0.025533559021683885,
           0.02292591623243515,
           0.021072671121856876,
           0.025834137446532585,
           0.025027222845176018,
           0.022933431093441845,
           0.0251363587918096,
           0.021040564315842402,
           0.02189645937186686
          ],
          "color": "rgba(128,177,211,0.4)",
          "thickness": 2,
          "type": "data"
         },
         "error_y": {
          "array": [
           0.012339406385661479,
           0.009046200896255454,
           0.007746742542914159,
           0.007685040195435535,
           0.008876168732828302,
           0.007674307086697607,
           0.009026645717015776,
           0.00793257496406226,
           0.0074575475976483,
           0.009006190402988857,
           0.009164319097176155,
           0.007889905526982663,
           0.007451434488871394,
           0.006804972308876837,
           0.007393858800870462,
           0.007946616303062572,
           0.007455600935587934,
           0.007666742595480827,
           0.0076791074593626765,
           0.008802261115949983
          ],
          "color": "rgba(128,177,211,0.4)",
          "thickness": 2,
          "type": "data"
         },
         "hoverinfo": "text",
         "legendgroup": "mean",
         "marker": {
          "color": "rgba(128,177,211,1)"
         },
         "mode": "markers",
         "name": "mean",
         "text": [
          "<b>Parameterization 0</b><br>delays_from_actual: 0.386 [0.353, 0.419]<br>emergencies: 387.234% [382.533%, 391.936%]<br>emergency_from_actual: 0.016 [0.004, 0.029]<br>error: 541.902% [515.353%, 568.450%]<br>delays: 63.915% [57.887%, 69.943%]<br><br><em>Parameterization:</em><br>dd-los: 45.60538093092044<br>gw-non-covid-los: 5.0<br>syswatch-scale: 0.9721437722970513",
          "<b>Parameterization 1</b><br>delays_from_actual: 0.062 [0.035, 0.090]<br>emergencies: 387.882% [384.435%, 391.329%]<br>emergency_from_actual: 0.018 [0.009, 0.027]<br>error: 15.416% [0.142%, 30.691%]<br>delays: 98.474% [94.115%, 102.833%]<br><br><em>Parameterization:</em><br>dd-los: 79.99999999999997<br>gw-non-covid-los: 5.0<br>syswatch-scale: 0.9002865804658411",
          "<b>Parameterization 2</b><br>delays_from_actual: 0.05 [0.024, 0.075]<br>emergencies: 388.384% [385.432%, 391.335%]<br>emergency_from_actual: 0.019 [0.012, 0.027]<br>error: 12.79% [-7.936%, 33.516%]<br>delays: 100.301% [96.217%, 104.384%]<br><br><em>Parameterization:</em><br>dd-los: 77.69092576072111<br>gw-non-covid-los: 5.0<br>syswatch-scale: 0.8976278793541206",
          "<b>Parameterization 3</b><br>delays_from_actual: 0.026 [0.001, 0.051]<br>emergencies: 389.392% [386.464%, 392.320%]<br>emergency_from_actual: 0.022 [0.014, 0.030]<br>error: 6.475% [-14.171%, 27.121%]<br>delays: 103.093% [99.018%, 107.169%]<br><br><em>Parameterization:</em><br>dd-los: 72.84370660848691<br>gw-non-covid-los: 5.0<br>syswatch-scale: 0.8862903358033094",
          "<b>Parameterization 4</b><br>delays_from_actual: 0.061 [0.034, 0.088]<br>emergencies: 387.927% [384.545%, 391.309%]<br>emergency_from_actual: 0.018 [0.009, 0.027]<br>error: 15.213% [0.185%, 30.242%]<br>delays: 98.636% [94.342%, 102.929%]<br><br><em>Parameterization:</em><br>dd-los: 79.80734291854246<br>gw-non-covid-los: 5.0<br>syswatch-scale: 0.8993065103535187",
          "<b>Parameterization 5</b><br>delays_from_actual: 0.026 [0.001, 0.052]<br>emergencies: 389.385% [386.461%, 392.309%]<br>emergency_from_actual: 0.022 [0.014, 0.030]<br>error: 6.524% [-14.194%, 27.243%]<br>delays: 103.082% [99.006%, 107.157%]<br><br><em>Parameterization:</em><br>dd-los: 72.8766185471973<br>gw-non-covid-los: 5.0<br>syswatch-scale: 0.8864067255736989",
          "<b>Parameterization 6</b><br>delays_from_actual: 0.062 [0.035, 0.090]<br>emergencies: 387.885% [384.445%, 391.324%]<br>emergency_from_actual: 0.018 [0.009, 0.027]<br>error: 15.446% [0.233%, 30.659%]<br>delays: 98.475% [94.124%, 102.827%]<br><br><em>Parameterization:</em><br>dd-los: 80.0<br>gw-non-covid-los: 5.0<br>syswatch-scale: 0.8996429474102816",
          "<b>Parameterization 7</b><br>delays_from_actual: 0.024 [-0.001, 0.049]<br>emergencies: 389.537% [386.515%, 392.559%]<br>emergency_from_actual: 0.022 [0.014, 0.030]<br>error: 5.528% [-13.909%, 24.964%]<br>delays: 103.297% [99.196%, 107.398%]<br><br><em>Parameterization:</em><br>dd-los: 72.24317900548141<br>gw-non-covid-los: 5.0<br>syswatch-scale: 0.8831788231630491",
          "<b>Parameterization 8</b><br>delays_from_actual: 0.03 [0.005, 0.056]<br>emergencies: 389.214% [386.373%, 392.055%]<br>emergency_from_actual: 0.022 [0.014, 0.029]<br>error: 7.747% [-14.523%, 30.016%]<br>delays: 102.753% [98.671%, 106.835%]<br><br><em>Parameterization:</em><br>dd-los: 73.68321897303541<br>gw-non-covid-los: 5.0<br>syswatch-scale: 0.8893987456442971",
          "<b>Parameterization 9</b><br>delays_from_actual: 0.015 [-0.014, 0.043]<br>emergencies: 390.253% [386.821%, 393.684%]<br>emergency_from_actual: 0.024 [0.015, 0.033]<br>error: 3.37% [-17.521%, 24.261%]<br>delays: 103.889% [99.513%, 108.266%]<br><br><em>Parameterization:</em><br>dd-los: 71.28514356318105<br>gw-non-covid-los: 5.000000000000003<br>syswatch-scale: 0.8642269770493466",
          "<b>Parameterization 10</b><br>delays_from_actual: 0.011 [-0.019, 0.042]<br>emergencies: 390.814% [387.322%, 394.306%]<br>emergency_from_actual: 0.026 [0.017, 0.035]<br>error: 3.718% [-20.967%, 28.404%]<br>delays: 104.37% [99.972%, 108.769%]<br><br><em>Parameterization:</em><br>dd-los: 71.9899336541852<br>gw-non-covid-los: 5.0<br>syswatch-scale: 0.8501837312213514",
          "<b>Parameterization 11</b><br>delays_from_actual: 0.052 [0.026, 0.077]<br>emergencies: 388.305% [385.299%, 391.311%]<br>emergency_from_actual: 0.019 [0.011, 0.027]<br>error: 13.185% [-6.385%, 32.754%]<br>delays: 100.026% [95.941%, 104.112%]<br><br><em>Parameterization:</em><br>dd-los: 78.05502955633733<br>gw-non-covid-los: 5.0<br>syswatch-scale: 0.8981680569591999",
          "<b>Parameterization 12</b><br>delays_from_actual: 0.012 [-0.011, 0.035]<br>emergencies: 391.73% [388.891%, 394.569%]<br>emergency_from_actual: 0.028 [0.021, 0.036]<br>error: 5.457% [-13.976%, 24.890%]<br>delays: 104.706% [101.220%, 108.191%]<br><br><em>Parameterization:</em><br>dd-los: 75.26453440312488<br>gw-non-covid-los: 5.0<br>syswatch-scale: 0.8237907635603695",
          "<b>Parameterization 13</b><br>delays_from_actual: 0.011 [-0.010, 0.032]<br>emergencies: 394.679% [392.086%, 397.271%]<br>emergency_from_actual: 0.036 [0.029, 0.043]<br>error: 6.819% [-8.404%, 22.043%]<br>delays: 104.675% [101.335%, 108.016%]<br><br><em>Parameterization:</em><br>dd-los: 75.23656635811763<br>gw-non-covid-los: 5.044620562235915<br>syswatch-scale: 0.8215887604357133",
          "<b>Parameterization 14</b><br>delays_from_actual: 0.043 [0.017, 0.068]<br>emergencies: 388.68% [385.862%, 391.497%]<br>emergency_from_actual: 0.02 [0.013, 0.028]<br>error: 11.223% [-12.403%, 34.848%]<br>delays: 101.284% [97.172%, 105.395%]<br><br><em>Parameterization:</em><br>dd-los: 76.29878688827753<br>gw-non-covid-los: 5.0<br>syswatch-scale: 0.8954487559579577",
          "<b>Parameterization 15</b><br>delays_from_actual: 0.023 [-0.002, 0.048]<br>emergencies: 389.544% [386.517%, 392.572%]<br>emergency_from_actual: 0.022 [0.014, 0.030]<br>error: 5.48% [-13.885%, 24.846%]<br>delays: 103.306% [99.203%, 107.409%]<br><br><em>Parameterization:</em><br>dd-los: 72.21176749229468<br>gw-non-covid-los: 5.000000000000001<br>syswatch-scale: 0.8830389353069895",
          "<b>Parameterization 16</b><br>delays_from_actual: 0.012 [-0.011, 0.035]<br>emergencies: 391.757% [388.917%, 394.598%]<br>emergency_from_actual: 0.028 [0.021, 0.036]<br>error: 5.458% [-13.931%, 24.848%]<br>delays: 104.737% [101.250%, 108.225%]<br><br><em>Parameterization:</em><br>dd-los: 75.22065287956889<br>gw-non-covid-los: 5.0<br>syswatch-scale: 0.8234076625750217",
          "<b>Parameterization 17</b><br>delays_from_actual: 0.027 [0.001, 0.052]<br>emergencies: 389.38% [386.459%, 392.301%]<br>emergency_from_actual: 0.022 [0.014, 0.030]<br>error: 6.555% [-14.181%, 27.292%]<br>delays: 103.073% [98.999%, 107.147%]<br><br><em>Parameterization:</em><br>dd-los: 72.89388623378815<br>gw-non-covid-los: 5.0000000000000036<br>syswatch-scale: 0.8865718176654905",
          "<b>Parameterization 18</b><br>delays_from_actual: 0.01 [-0.011, 0.031]<br>emergencies: 397.332% [394.407%, 400.258%]<br>emergency_from_actual: 0.043 [0.035, 0.051]<br>error: 8.349% [-5.565%, 22.263%]<br>delays: 104.58% [101.197%, 107.962%]<br><br><em>Parameterization:</em><br>dd-los: 75.16582011183522<br>gw-non-covid-los: 5.085134631446934<br>syswatch-scale: 0.8213590858287777",
          "<b>Parameterization 19</b><br>delays_from_actual: 0.009 [-0.013, 0.031]<br>emergencies: 399.186% [395.832%, 402.539%]<br>emergency_from_actual: 0.048 [0.039, 0.057]<br>error: 9.551% [-4.911%, 24.013%]<br>delays: 104.517% [101.014%, 108.019%]<br><br><em>Parameterization:</em><br>dd-los: 75.02667766437186<br>gw-non-covid-los: 5.113282987103868<br>syswatch-scale: 0.8217017987953743"
         ],
         "type": "scatter",
         "x": [
          0.3857452103345106,
          0.06208310586973932,
          0.04979029633619496,
          0.026307312691469242,
          0.06105525887486424,
          0.026444037353079902,
          0.062095864333330794,
          0.02356474461458219,
          0.030061807997124462,
          0.014693013774453173,
          0.011496540265177158,
          0.05170973211428312,
          0.012105440755865449,
          0.010740953425962652,
          0.042604125755666175,
          0.02343834244515086,
          0.012059061547580241,
          0.02655592812916563,
          0.0096233363382206,
          0.008860944120887698
         ],
         "y": [
          0.01636322801127499,
          0.018062811112954838,
          0.0193801288441139,
          0.02202669953715894,
          0.01818187905420808,
          0.022008728594644214,
          0.018069647721727325,
          0.022407063399723717,
          0.021559427787203725,
          0.024285324166192,
          0.02575861476337918,
          0.019173205662528073,
          0.028163529673610313,
          0.03590229441312465,
          0.020156306877687255,
          0.022425925847276526,
          0.028234596809321888,
          0.021994390539205766,
          0.04286715880711103,
          0.047731726200364546
         ]
        }
       ],
       "layout": {
        "height": 500,
        "hovermode": "closest",
        "legend": {
         "orientation": "h"
        },
        "margin": {
         "b": 75,
         "l": 225,
         "pad": 4,
         "t": 75
        },
        "template": {
         "data": {
          "bar": [
           {
            "error_x": {
             "color": "#2a3f5f"
            },
            "error_y": {
             "color": "#2a3f5f"
            },
            "marker": {
             "line": {
              "color": "#E5ECF6",
              "width": 0.5
             },
             "pattern": {
              "fillmode": "overlay",
              "size": 10,
              "solidity": 0.2
             }
            },
            "type": "bar"
           }
          ],
          "barpolar": [
           {
            "marker": {
             "line": {
              "color": "#E5ECF6",
              "width": 0.5
             },
             "pattern": {
              "fillmode": "overlay",
              "size": 10,
              "solidity": 0.2
             }
            },
            "type": "barpolar"
           }
          ],
          "carpet": [
           {
            "aaxis": {
             "endlinecolor": "#2a3f5f",
             "gridcolor": "white",
             "linecolor": "white",
             "minorgridcolor": "white",
             "startlinecolor": "#2a3f5f"
            },
            "baxis": {
             "endlinecolor": "#2a3f5f",
             "gridcolor": "white",
             "linecolor": "white",
             "minorgridcolor": "white",
             "startlinecolor": "#2a3f5f"
            },
            "type": "carpet"
           }
          ],
          "choropleth": [
           {
            "colorbar": {
             "outlinewidth": 0,
             "ticks": ""
            },
            "type": "choropleth"
           }
          ],
          "contour": [
           {
            "colorbar": {
             "outlinewidth": 0,
             "ticks": ""
            },
            "colorscale": [
             [
              0,
              "#0d0887"
             ],
             [
              0.1111111111111111,
              "#46039f"
             ],
             [
              0.2222222222222222,
              "#7201a8"
             ],
             [
              0.3333333333333333,
              "#9c179e"
             ],
             [
              0.4444444444444444,
              "#bd3786"
             ],
             [
              0.5555555555555556,
              "#d8576b"
             ],
             [
              0.6666666666666666,
              "#ed7953"
             ],
             [
              0.7777777777777778,
              "#fb9f3a"
             ],
             [
              0.8888888888888888,
              "#fdca26"
             ],
             [
              1,
              "#f0f921"
             ]
            ],
            "type": "contour"
           }
          ],
          "contourcarpet": [
           {
            "colorbar": {
             "outlinewidth": 0,
             "ticks": ""
            },
            "type": "contourcarpet"
           }
          ],
          "heatmap": [
           {
            "colorbar": {
             "outlinewidth": 0,
             "ticks": ""
            },
            "colorscale": [
             [
              0,
              "#0d0887"
             ],
             [
              0.1111111111111111,
              "#46039f"
             ],
             [
              0.2222222222222222,
              "#7201a8"
             ],
             [
              0.3333333333333333,
              "#9c179e"
             ],
             [
              0.4444444444444444,
              "#bd3786"
             ],
             [
              0.5555555555555556,
              "#d8576b"
             ],
             [
              0.6666666666666666,
              "#ed7953"
             ],
             [
              0.7777777777777778,
              "#fb9f3a"
             ],
             [
              0.8888888888888888,
              "#fdca26"
             ],
             [
              1,
              "#f0f921"
             ]
            ],
            "type": "heatmap"
           }
          ],
          "heatmapgl": [
           {
            "colorbar": {
             "outlinewidth": 0,
             "ticks": ""
            },
            "colorscale": [
             [
              0,
              "#0d0887"
             ],
             [
              0.1111111111111111,
              "#46039f"
             ],
             [
              0.2222222222222222,
              "#7201a8"
             ],
             [
              0.3333333333333333,
              "#9c179e"
             ],
             [
              0.4444444444444444,
              "#bd3786"
             ],
             [
              0.5555555555555556,
              "#d8576b"
             ],
             [
              0.6666666666666666,
              "#ed7953"
             ],
             [
              0.7777777777777778,
              "#fb9f3a"
             ],
             [
              0.8888888888888888,
              "#fdca26"
             ],
             [
              1,
              "#f0f921"
             ]
            ],
            "type": "heatmapgl"
           }
          ],
          "histogram": [
           {
            "marker": {
             "pattern": {
              "fillmode": "overlay",
              "size": 10,
              "solidity": 0.2
             }
            },
            "type": "histogram"
           }
          ],
          "histogram2d": [
           {
            "colorbar": {
             "outlinewidth": 0,
             "ticks": ""
            },
            "colorscale": [
             [
              0,
              "#0d0887"
             ],
             [
              0.1111111111111111,
              "#46039f"
             ],
             [
              0.2222222222222222,
              "#7201a8"
             ],
             [
              0.3333333333333333,
              "#9c179e"
             ],
             [
              0.4444444444444444,
              "#bd3786"
             ],
             [
              0.5555555555555556,
              "#d8576b"
             ],
             [
              0.6666666666666666,
              "#ed7953"
             ],
             [
              0.7777777777777778,
              "#fb9f3a"
             ],
             [
              0.8888888888888888,
              "#fdca26"
             ],
             [
              1,
              "#f0f921"
             ]
            ],
            "type": "histogram2d"
           }
          ],
          "histogram2dcontour": [
           {
            "colorbar": {
             "outlinewidth": 0,
             "ticks": ""
            },
            "colorscale": [
             [
              0,
              "#0d0887"
             ],
             [
              0.1111111111111111,
              "#46039f"
             ],
             [
              0.2222222222222222,
              "#7201a8"
             ],
             [
              0.3333333333333333,
              "#9c179e"
             ],
             [
              0.4444444444444444,
              "#bd3786"
             ],
             [
              0.5555555555555556,
              "#d8576b"
             ],
             [
              0.6666666666666666,
              "#ed7953"
             ],
             [
              0.7777777777777778,
              "#fb9f3a"
             ],
             [
              0.8888888888888888,
              "#fdca26"
             ],
             [
              1,
              "#f0f921"
             ]
            ],
            "type": "histogram2dcontour"
           }
          ],
          "mesh3d": [
           {
            "colorbar": {
             "outlinewidth": 0,
             "ticks": ""
            },
            "type": "mesh3d"
           }
          ],
          "parcoords": [
           {
            "line": {
             "colorbar": {
              "outlinewidth": 0,
              "ticks": ""
             }
            },
            "type": "parcoords"
           }
          ],
          "pie": [
           {
            "automargin": true,
            "type": "pie"
           }
          ],
          "scatter": [
           {
            "fillpattern": {
             "fillmode": "overlay",
             "size": 10,
             "solidity": 0.2
            },
            "type": "scatter"
           }
          ],
          "scatter3d": [
           {
            "line": {
             "colorbar": {
              "outlinewidth": 0,
              "ticks": ""
             }
            },
            "marker": {
             "colorbar": {
              "outlinewidth": 0,
              "ticks": ""
             }
            },
            "type": "scatter3d"
           }
          ],
          "scattercarpet": [
           {
            "marker": {
             "colorbar": {
              "outlinewidth": 0,
              "ticks": ""
             }
            },
            "type": "scattercarpet"
           }
          ],
          "scattergeo": [
           {
            "marker": {
             "colorbar": {
              "outlinewidth": 0,
              "ticks": ""
             }
            },
            "type": "scattergeo"
           }
          ],
          "scattergl": [
           {
            "marker": {
             "colorbar": {
              "outlinewidth": 0,
              "ticks": ""
             }
            },
            "type": "scattergl"
           }
          ],
          "scattermapbox": [
           {
            "marker": {
             "colorbar": {
              "outlinewidth": 0,
              "ticks": ""
             }
            },
            "type": "scattermapbox"
           }
          ],
          "scatterpolar": [
           {
            "marker": {
             "colorbar": {
              "outlinewidth": 0,
              "ticks": ""
             }
            },
            "type": "scatterpolar"
           }
          ],
          "scatterpolargl": [
           {
            "marker": {
             "colorbar": {
              "outlinewidth": 0,
              "ticks": ""
             }
            },
            "type": "scatterpolargl"
           }
          ],
          "scatterternary": [
           {
            "marker": {
             "colorbar": {
              "outlinewidth": 0,
              "ticks": ""
             }
            },
            "type": "scatterternary"
           }
          ],
          "surface": [
           {
            "colorbar": {
             "outlinewidth": 0,
             "ticks": ""
            },
            "colorscale": [
             [
              0,
              "#0d0887"
             ],
             [
              0.1111111111111111,
              "#46039f"
             ],
             [
              0.2222222222222222,
              "#7201a8"
             ],
             [
              0.3333333333333333,
              "#9c179e"
             ],
             [
              0.4444444444444444,
              "#bd3786"
             ],
             [
              0.5555555555555556,
              "#d8576b"
             ],
             [
              0.6666666666666666,
              "#ed7953"
             ],
             [
              0.7777777777777778,
              "#fb9f3a"
             ],
             [
              0.8888888888888888,
              "#fdca26"
             ],
             [
              1,
              "#f0f921"
             ]
            ],
            "type": "surface"
           }
          ],
          "table": [
           {
            "cells": {
             "fill": {
              "color": "#EBF0F8"
             },
             "line": {
              "color": "white"
             }
            },
            "header": {
             "fill": {
              "color": "#C8D4E3"
             },
             "line": {
              "color": "white"
             }
            },
            "type": "table"
           }
          ]
         },
         "layout": {
          "annotationdefaults": {
           "arrowcolor": "#2a3f5f",
           "arrowhead": 0,
           "arrowwidth": 1
          },
          "autotypenumbers": "strict",
          "coloraxis": {
           "colorbar": {
            "outlinewidth": 0,
            "ticks": ""
           }
          },
          "colorscale": {
           "diverging": [
            [
             0,
             "#8e0152"
            ],
            [
             0.1,
             "#c51b7d"
            ],
            [
             0.2,
             "#de77ae"
            ],
            [
             0.3,
             "#f1b6da"
            ],
            [
             0.4,
             "#fde0ef"
            ],
            [
             0.5,
             "#f7f7f7"
            ],
            [
             0.6,
             "#e6f5d0"
            ],
            [
             0.7,
             "#b8e186"
            ],
            [
             0.8,
             "#7fbc41"
            ],
            [
             0.9,
             "#4d9221"
            ],
            [
             1,
             "#276419"
            ]
           ],
           "sequential": [
            [
             0,
             "#0d0887"
            ],
            [
             0.1111111111111111,
             "#46039f"
            ],
            [
             0.2222222222222222,
             "#7201a8"
            ],
            [
             0.3333333333333333,
             "#9c179e"
            ],
            [
             0.4444444444444444,
             "#bd3786"
            ],
            [
             0.5555555555555556,
             "#d8576b"
            ],
            [
             0.6666666666666666,
             "#ed7953"
            ],
            [
             0.7777777777777778,
             "#fb9f3a"
            ],
            [
             0.8888888888888888,
             "#fdca26"
            ],
            [
             1,
             "#f0f921"
            ]
           ],
           "sequentialminus": [
            [
             0,
             "#0d0887"
            ],
            [
             0.1111111111111111,
             "#46039f"
            ],
            [
             0.2222222222222222,
             "#7201a8"
            ],
            [
             0.3333333333333333,
             "#9c179e"
            ],
            [
             0.4444444444444444,
             "#bd3786"
            ],
            [
             0.5555555555555556,
             "#d8576b"
            ],
            [
             0.6666666666666666,
             "#ed7953"
            ],
            [
             0.7777777777777778,
             "#fb9f3a"
            ],
            [
             0.8888888888888888,
             "#fdca26"
            ],
            [
             1,
             "#f0f921"
            ]
           ]
          },
          "colorway": [
           "#636efa",
           "#EF553B",
           "#00cc96",
           "#ab63fa",
           "#FFA15A",
           "#19d3f3",
           "#FF6692",
           "#B6E880",
           "#FF97FF",
           "#FECB52"
          ],
          "font": {
           "color": "#2a3f5f"
          },
          "geo": {
           "bgcolor": "white",
           "lakecolor": "white",
           "landcolor": "#E5ECF6",
           "showlakes": true,
           "showland": true,
           "subunitcolor": "white"
          },
          "hoverlabel": {
           "align": "left"
          },
          "hovermode": "closest",
          "mapbox": {
           "style": "light"
          },
          "paper_bgcolor": "white",
          "plot_bgcolor": "#E5ECF6",
          "polar": {
           "angularaxis": {
            "gridcolor": "white",
            "linecolor": "white",
            "ticks": ""
           },
           "bgcolor": "#E5ECF6",
           "radialaxis": {
            "gridcolor": "white",
            "linecolor": "white",
            "ticks": ""
           }
          },
          "scene": {
           "xaxis": {
            "backgroundcolor": "#E5ECF6",
            "gridcolor": "white",
            "gridwidth": 2,
            "linecolor": "white",
            "showbackground": true,
            "ticks": "",
            "zerolinecolor": "white"
           },
           "yaxis": {
            "backgroundcolor": "#E5ECF6",
            "gridcolor": "white",
            "gridwidth": 2,
            "linecolor": "white",
            "showbackground": true,
            "ticks": "",
            "zerolinecolor": "white"
           },
           "zaxis": {
            "backgroundcolor": "#E5ECF6",
            "gridcolor": "white",
            "gridwidth": 2,
            "linecolor": "white",
            "showbackground": true,
            "ticks": "",
            "zerolinecolor": "white"
           }
          },
          "shapedefaults": {
           "line": {
            "color": "#2a3f5f"
           }
          },
          "ternary": {
           "aaxis": {
            "gridcolor": "white",
            "linecolor": "white",
            "ticks": ""
           },
           "baxis": {
            "gridcolor": "white",
            "linecolor": "white",
            "ticks": ""
           },
           "bgcolor": "#E5ECF6",
           "caxis": {
            "gridcolor": "white",
            "linecolor": "white",
            "ticks": ""
           }
          },
          "title": {
           "x": 0.05
          },
          "xaxis": {
           "automargin": true,
           "gridcolor": "white",
           "linecolor": "white",
           "ticks": "",
           "title": {
            "standoff": 15
           },
           "zerolinecolor": "white",
           "zerolinewidth": 2
          },
          "yaxis": {
           "automargin": true,
           "gridcolor": "white",
           "linecolor": "white",
           "ticks": "",
           "title": {
            "standoff": 15
           },
           "zerolinecolor": "white",
           "zerolinewidth": 2
          }
         }
        },
        "title": {
         "text": "Pareto Frontier"
        },
        "width": 750,
        "xaxis": {
         "ticksuffix": "",
         "title": {
          "text": "delays_from_actual"
         },
         "zeroline": true
        },
        "yaxis": {
         "ticksuffix": "",
         "title": {
          "text": "emergency_from_actual"
         },
         "zeroline": true
        }
       }
      }
     },
     "metadata": {},
     "output_type": "display_data"
    }
   ],
   "source": [
    "objectives = ax_client.experiment.optimization_config.objective.objectives\n",
    "frontier = compute_posterior_pareto_frontier(\n",
    "    experiment=ax_client.experiment,\n",
    "    data=ax_client.experiment.fetch_data(),\n",
    "    primary_objective=objectives[0].metric,\n",
    "    secondary_objective=objectives[1].metric,\n",
    "    absolute_metrics=[\"emergency_from_actual\", \"delays_from_actual\"],\n",
    "    num_points=20,\n",
    ")\n",
    "\n",
    "render(plot_pareto_frontier(frontier, CI_level=0.95))"
   ]
  },
  {
   "cell_type": "code",
   "execution_count": 18,
   "metadata": {},
   "outputs": [
    {
     "data": {
      "text/plain": [
       "0.0008080698854580234"
      ]
     },
     "execution_count": 18,
     "metadata": {},
     "output_type": "execute_result"
    }
   ],
   "source": [
    "ax_client.get_hypervolume()"
   ]
  },
  {
   "cell_type": "code",
   "execution_count": 19,
   "metadata": {},
   "outputs": [],
   "source": [
    "from ax.plot.slice import plot_slice"
   ]
  },
  {
   "cell_type": "code",
   "execution_count": 20,
   "metadata": {},
   "outputs": [],
   "source": [
    "model = ax_client.generation_strategy.model"
   ]
  },
  {
   "cell_type": "code",
   "execution_count": 21,
   "metadata": {},
   "outputs": [
    {
     "data": {
      "application/vnd.plotly.v1+json": {
       "config": {
        "linkText": "Export to plot.ly",
        "plotlyServerURL": "https://plot.ly",
        "showLink": false
       },
       "data": [
        {
         "fill": "toself",
         "fillcolor": "rgba(128, 177, 211, 0.2)",
         "hoverinfo": "none",
         "line": {
          "color": "rgba(128, 177, 211, 0.0)"
         },
         "showlegend": false,
         "type": "scatter",
         "visible": true,
         "x": [
          20,
          21.224489795918366,
          22.448979591836736,
          23.6734693877551,
          24.89795918367347,
          26.122448979591837,
          27.346938775510203,
          28.57142857142857,
          29.79591836734694,
          31.02040816326531,
          32.244897959183675,
          33.46938775510204,
          34.69387755102041,
          35.91836734693878,
          37.14285714285714,
          38.36734693877551,
          39.59183673469388,
          40.816326530612244,
          42.04081632653062,
          43.265306122448976,
          44.48979591836735,
          45.714285714285715,
          46.93877551020408,
          48.163265306122454,
          49.38775510204081,
          50.61224489795919,
          51.83673469387755,
          53.06122448979592,
          54.285714285714285,
          55.51020408163265,
          56.734693877551024,
          57.95918367346939,
          59.183673469387756,
          60.40816326530612,
          61.63265306122449,
          62.85714285714286,
          64.08163265306123,
          65.3061224489796,
          66.53061224489795,
          67.75510204081633,
          68.9795918367347,
          70.20408163265307,
          71.42857142857143,
          72.65306122448979,
          73.87755102040816,
          75.10204081632654,
          76.32653061224491,
          77.55102040816327,
          78.77551020408163,
          80,
          80,
          78.77551020408163,
          77.55102040816327,
          76.32653061224491,
          75.10204081632654,
          73.87755102040816,
          72.65306122448979,
          71.42857142857143,
          70.20408163265307,
          68.9795918367347,
          67.75510204081633,
          66.53061224489795,
          65.3061224489796,
          64.08163265306123,
          62.85714285714286,
          61.63265306122449,
          60.40816326530612,
          59.183673469387756,
          57.95918367346939,
          56.734693877551024,
          55.51020408163265,
          54.285714285714285,
          53.06122448979592,
          51.83673469387755,
          50.61224489795919,
          49.38775510204081,
          48.163265306122454,
          46.93877551020408,
          45.714285714285715,
          44.48979591836735,
          43.265306122448976,
          42.04081632653062,
          40.816326530612244,
          39.59183673469388,
          38.36734693877551,
          37.14285714285714,
          35.91836734693878,
          34.69387755102041,
          33.46938775510204,
          32.244897959183675,
          31.02040816326531,
          29.79591836734694,
          28.57142857142857,
          27.346938775510203,
          26.122448979591837,
          24.89795918367347,
          23.6734693877551,
          22.448979591836736,
          21.224489795918366,
          20
         ],
         "y": [
          2263.683974224755,
          2194.792661795557,
          2125.0327015914468,
          2054.6337204792812,
          1983.8312479509482,
          1912.863584430816,
          1841.9683900077534,
          1771.379038378521,
          1701.3207889026003,
          1632.0068416249055,
          1563.6343596012266,
          1496.3805733190816,
          1430.3991248868817,
          1365.816862187683,
          1302.731346530518,
          1241.2093763720072,
          1181.2868354798045,
          1122.9701290303153,
          1066.2393665182612,
          1011.0532909185991,
          957.3557595517566,
          905.0833850033807,
          854.1737785336918,
          804.5737317826702,
          756.2466409518374,
          709.1785228283657,
          663.3820847435475,
          618.898475974132,
          575.7965516436122,
          534.1697119627821,
          494.1306357936145,
          455.80450820943173,
          419.3216466185594,
          384.8107532572151,
          352.3943495949392,
          322.18826006605525,
          294.30727939844644,
          268.8793010021263,
          246.06990483997515,
          226.11772237937797,
          209.37533993569056,
          196.3369357400918,
          187.61162853224423,
          183.79149058699844,
          185.21906496151593,
          191.78795878866407,
          202.94945417838957,
          217.9239832555767,
          235.94764623790172,
          256.4237485736428,
          -132.3361886605786,
          -116.19091536781343,
          -101.67634608454014,
          -89.44476597371587,
          -80.23382178380149,
          -74.69914649466278,
          -73.1606118342319,
          -75.39511385190096,
          -80.64635316886324,
          -87.8506985272845,
          -95.90197622320457,
          -103.81655898268252,
          -110.7894677155902,
          -116.1896452154759,
          -119.5342917054079,
          -120.46132768412667,
          -118.70632612466781,
          -114.08506147748096,
          -106.48117239712548,
          -95.83799013836844,
          -82.15346755988355,
          -65.47712937992296,
          -45.908022325857985,
          -23.59277009032229,
          1.2769817515629711,
          28.46823229581986,
          57.711677719669865,
          88.70819896604058,
          121.13662461323264,
          154.6624281786008,
          188.94688160651015,
          223.65610632602187,
          258.46945066211555,
          293.0866811212739,
          327.23359849713813,
          360.6658596654677,
          393.17097453843417,
          424.5686230259546,
          454.70957095474284,
          483.4735398274087,
          510.7664008658453,
          536.5170299232663,
          560.6740951582049,
          583.2029734432477,
          604.0829198248074,
          623.3045560322289,
          640.8677020087263,
          656.7795473486076,
          671.0531438872239,
          683.7061926347458
         ]
        },
        {
         "hoverinfo": "x+y",
         "line": {
          "color": "rgba(128, 177, 211, 1)"
         },
         "showlegend": false,
         "type": "scatter",
         "visible": true,
         "x": [
          20,
          21.224489795918366,
          22.448979591836736,
          23.6734693877551,
          24.89795918367347,
          26.122448979591837,
          27.346938775510203,
          28.57142857142857,
          29.79591836734694,
          31.02040816326531,
          32.244897959183675,
          33.46938775510204,
          34.69387755102041,
          35.91836734693878,
          37.14285714285714,
          38.36734693877551,
          39.59183673469388,
          40.816326530612244,
          42.04081632653062,
          43.265306122448976,
          44.48979591836735,
          45.714285714285715,
          46.93877551020408,
          48.163265306122454,
          49.38775510204081,
          50.61224489795919,
          51.83673469387755,
          53.06122448979592,
          54.285714285714285,
          55.51020408163265,
          56.734693877551024,
          57.95918367346939,
          59.183673469387756,
          60.40816326530612,
          61.63265306122449,
          62.85714285714286,
          64.08163265306123,
          65.3061224489796,
          66.53061224489795,
          67.75510204081633,
          68.9795918367347,
          70.20408163265307,
          71.42857142857143,
          72.65306122448979,
          73.87755102040816,
          75.10204081632654,
          76.32653061224491,
          77.55102040816327,
          78.77551020408163,
          80
         ],
         "y": [
          1473.6950834297502,
          1432.9229028413904,
          1390.9061244700272,
          1347.7507112440037,
          1303.5679019915885,
          1258.4732521278117,
          1212.5856817255005,
          1166.026566768363,
          1118.9189094129333,
          1071.3866212453754,
          1023.5539497143177,
          975.5450721369123,
          927.4838739564182,
          879.4939183630586,
          831.6986030979929,
          784.2214874345727,
          737.1867583005392,
          690.7197898462155,
          644.9477364221416,
          600.0000862625546,
          556.0090938651787,
          513.1100048083067,
          471.44098874986616,
          431.14270475117,
          392.3574366238286,
          355.2277522899643,
          319.89465732661256,
          286.49522682413703,
          255.15971113184466,
          226.00812220144928,
          199.14632282762304,
          174.66166790615313,
          152.6182925705392,
          133.05221356627362,
          115.96651095540625,
          101.32698418032368,
          89.05881709148525,
          79.04491664326804,
          71.12667292864631,
          65.1078730780867,
          60.762320704203034,
          57.84529128561428,
          56.10825734017163,
          55.31543937638327,
          55.25995923342657,
          55.77706850243129,
          56.75234410233685,
          58.12381858551828,
          59.878365435044145,
          62.04377995653209
         ]
        },
        {
         "error_y": {
          "array": [],
          "color": "black",
          "type": "data",
          "visible": true
         },
         "hoverinfo": "x+y",
         "line": {
          "color": "black"
         },
         "mode": "markers",
         "showlegend": false,
         "type": "scatter",
         "visible": true,
         "x": [],
         "y": []
        }
       ],
       "layout": {
        "hovermode": "closest",
        "template": {
         "data": {
          "bar": [
           {
            "error_x": {
             "color": "#2a3f5f"
            },
            "error_y": {
             "color": "#2a3f5f"
            },
            "marker": {
             "line": {
              "color": "#E5ECF6",
              "width": 0.5
             },
             "pattern": {
              "fillmode": "overlay",
              "size": 10,
              "solidity": 0.2
             }
            },
            "type": "bar"
           }
          ],
          "barpolar": [
           {
            "marker": {
             "line": {
              "color": "#E5ECF6",
              "width": 0.5
             },
             "pattern": {
              "fillmode": "overlay",
              "size": 10,
              "solidity": 0.2
             }
            },
            "type": "barpolar"
           }
          ],
          "carpet": [
           {
            "aaxis": {
             "endlinecolor": "#2a3f5f",
             "gridcolor": "white",
             "linecolor": "white",
             "minorgridcolor": "white",
             "startlinecolor": "#2a3f5f"
            },
            "baxis": {
             "endlinecolor": "#2a3f5f",
             "gridcolor": "white",
             "linecolor": "white",
             "minorgridcolor": "white",
             "startlinecolor": "#2a3f5f"
            },
            "type": "carpet"
           }
          ],
          "choropleth": [
           {
            "colorbar": {
             "outlinewidth": 0,
             "ticks": ""
            },
            "type": "choropleth"
           }
          ],
          "contour": [
           {
            "colorbar": {
             "outlinewidth": 0,
             "ticks": ""
            },
            "colorscale": [
             [
              0,
              "#0d0887"
             ],
             [
              0.1111111111111111,
              "#46039f"
             ],
             [
              0.2222222222222222,
              "#7201a8"
             ],
             [
              0.3333333333333333,
              "#9c179e"
             ],
             [
              0.4444444444444444,
              "#bd3786"
             ],
             [
              0.5555555555555556,
              "#d8576b"
             ],
             [
              0.6666666666666666,
              "#ed7953"
             ],
             [
              0.7777777777777778,
              "#fb9f3a"
             ],
             [
              0.8888888888888888,
              "#fdca26"
             ],
             [
              1,
              "#f0f921"
             ]
            ],
            "type": "contour"
           }
          ],
          "contourcarpet": [
           {
            "colorbar": {
             "outlinewidth": 0,
             "ticks": ""
            },
            "type": "contourcarpet"
           }
          ],
          "heatmap": [
           {
            "colorbar": {
             "outlinewidth": 0,
             "ticks": ""
            },
            "colorscale": [
             [
              0,
              "#0d0887"
             ],
             [
              0.1111111111111111,
              "#46039f"
             ],
             [
              0.2222222222222222,
              "#7201a8"
             ],
             [
              0.3333333333333333,
              "#9c179e"
             ],
             [
              0.4444444444444444,
              "#bd3786"
             ],
             [
              0.5555555555555556,
              "#d8576b"
             ],
             [
              0.6666666666666666,
              "#ed7953"
             ],
             [
              0.7777777777777778,
              "#fb9f3a"
             ],
             [
              0.8888888888888888,
              "#fdca26"
             ],
             [
              1,
              "#f0f921"
             ]
            ],
            "type": "heatmap"
           }
          ],
          "heatmapgl": [
           {
            "colorbar": {
             "outlinewidth": 0,
             "ticks": ""
            },
            "colorscale": [
             [
              0,
              "#0d0887"
             ],
             [
              0.1111111111111111,
              "#46039f"
             ],
             [
              0.2222222222222222,
              "#7201a8"
             ],
             [
              0.3333333333333333,
              "#9c179e"
             ],
             [
              0.4444444444444444,
              "#bd3786"
             ],
             [
              0.5555555555555556,
              "#d8576b"
             ],
             [
              0.6666666666666666,
              "#ed7953"
             ],
             [
              0.7777777777777778,
              "#fb9f3a"
             ],
             [
              0.8888888888888888,
              "#fdca26"
             ],
             [
              1,
              "#f0f921"
             ]
            ],
            "type": "heatmapgl"
           }
          ],
          "histogram": [
           {
            "marker": {
             "pattern": {
              "fillmode": "overlay",
              "size": 10,
              "solidity": 0.2
             }
            },
            "type": "histogram"
           }
          ],
          "histogram2d": [
           {
            "colorbar": {
             "outlinewidth": 0,
             "ticks": ""
            },
            "colorscale": [
             [
              0,
              "#0d0887"
             ],
             [
              0.1111111111111111,
              "#46039f"
             ],
             [
              0.2222222222222222,
              "#7201a8"
             ],
             [
              0.3333333333333333,
              "#9c179e"
             ],
             [
              0.4444444444444444,
              "#bd3786"
             ],
             [
              0.5555555555555556,
              "#d8576b"
             ],
             [
              0.6666666666666666,
              "#ed7953"
             ],
             [
              0.7777777777777778,
              "#fb9f3a"
             ],
             [
              0.8888888888888888,
              "#fdca26"
             ],
             [
              1,
              "#f0f921"
             ]
            ],
            "type": "histogram2d"
           }
          ],
          "histogram2dcontour": [
           {
            "colorbar": {
             "outlinewidth": 0,
             "ticks": ""
            },
            "colorscale": [
             [
              0,
              "#0d0887"
             ],
             [
              0.1111111111111111,
              "#46039f"
             ],
             [
              0.2222222222222222,
              "#7201a8"
             ],
             [
              0.3333333333333333,
              "#9c179e"
             ],
             [
              0.4444444444444444,
              "#bd3786"
             ],
             [
              0.5555555555555556,
              "#d8576b"
             ],
             [
              0.6666666666666666,
              "#ed7953"
             ],
             [
              0.7777777777777778,
              "#fb9f3a"
             ],
             [
              0.8888888888888888,
              "#fdca26"
             ],
             [
              1,
              "#f0f921"
             ]
            ],
            "type": "histogram2dcontour"
           }
          ],
          "mesh3d": [
           {
            "colorbar": {
             "outlinewidth": 0,
             "ticks": ""
            },
            "type": "mesh3d"
           }
          ],
          "parcoords": [
           {
            "line": {
             "colorbar": {
              "outlinewidth": 0,
              "ticks": ""
             }
            },
            "type": "parcoords"
           }
          ],
          "pie": [
           {
            "automargin": true,
            "type": "pie"
           }
          ],
          "scatter": [
           {
            "fillpattern": {
             "fillmode": "overlay",
             "size": 10,
             "solidity": 0.2
            },
            "type": "scatter"
           }
          ],
          "scatter3d": [
           {
            "line": {
             "colorbar": {
              "outlinewidth": 0,
              "ticks": ""
             }
            },
            "marker": {
             "colorbar": {
              "outlinewidth": 0,
              "ticks": ""
             }
            },
            "type": "scatter3d"
           }
          ],
          "scattercarpet": [
           {
            "marker": {
             "colorbar": {
              "outlinewidth": 0,
              "ticks": ""
             }
            },
            "type": "scattercarpet"
           }
          ],
          "scattergeo": [
           {
            "marker": {
             "colorbar": {
              "outlinewidth": 0,
              "ticks": ""
             }
            },
            "type": "scattergeo"
           }
          ],
          "scattergl": [
           {
            "marker": {
             "colorbar": {
              "outlinewidth": 0,
              "ticks": ""
             }
            },
            "type": "scattergl"
           }
          ],
          "scattermapbox": [
           {
            "marker": {
             "colorbar": {
              "outlinewidth": 0,
              "ticks": ""
             }
            },
            "type": "scattermapbox"
           }
          ],
          "scatterpolar": [
           {
            "marker": {
             "colorbar": {
              "outlinewidth": 0,
              "ticks": ""
             }
            },
            "type": "scatterpolar"
           }
          ],
          "scatterpolargl": [
           {
            "marker": {
             "colorbar": {
              "outlinewidth": 0,
              "ticks": ""
             }
            },
            "type": "scatterpolargl"
           }
          ],
          "scatterternary": [
           {
            "marker": {
             "colorbar": {
              "outlinewidth": 0,
              "ticks": ""
             }
            },
            "type": "scatterternary"
           }
          ],
          "surface": [
           {
            "colorbar": {
             "outlinewidth": 0,
             "ticks": ""
            },
            "colorscale": [
             [
              0,
              "#0d0887"
             ],
             [
              0.1111111111111111,
              "#46039f"
             ],
             [
              0.2222222222222222,
              "#7201a8"
             ],
             [
              0.3333333333333333,
              "#9c179e"
             ],
             [
              0.4444444444444444,
              "#bd3786"
             ],
             [
              0.5555555555555556,
              "#d8576b"
             ],
             [
              0.6666666666666666,
              "#ed7953"
             ],
             [
              0.7777777777777778,
              "#fb9f3a"
             ],
             [
              0.8888888888888888,
              "#fdca26"
             ],
             [
              1,
              "#f0f921"
             ]
            ],
            "type": "surface"
           }
          ],
          "table": [
           {
            "cells": {
             "fill": {
              "color": "#EBF0F8"
             },
             "line": {
              "color": "white"
             }
            },
            "header": {
             "fill": {
              "color": "#C8D4E3"
             },
             "line": {
              "color": "white"
             }
            },
            "type": "table"
           }
          ]
         },
         "layout": {
          "annotationdefaults": {
           "arrowcolor": "#2a3f5f",
           "arrowhead": 0,
           "arrowwidth": 1
          },
          "autotypenumbers": "strict",
          "coloraxis": {
           "colorbar": {
            "outlinewidth": 0,
            "ticks": ""
           }
          },
          "colorscale": {
           "diverging": [
            [
             0,
             "#8e0152"
            ],
            [
             0.1,
             "#c51b7d"
            ],
            [
             0.2,
             "#de77ae"
            ],
            [
             0.3,
             "#f1b6da"
            ],
            [
             0.4,
             "#fde0ef"
            ],
            [
             0.5,
             "#f7f7f7"
            ],
            [
             0.6,
             "#e6f5d0"
            ],
            [
             0.7,
             "#b8e186"
            ],
            [
             0.8,
             "#7fbc41"
            ],
            [
             0.9,
             "#4d9221"
            ],
            [
             1,
             "#276419"
            ]
           ],
           "sequential": [
            [
             0,
             "#0d0887"
            ],
            [
             0.1111111111111111,
             "#46039f"
            ],
            [
             0.2222222222222222,
             "#7201a8"
            ],
            [
             0.3333333333333333,
             "#9c179e"
            ],
            [
             0.4444444444444444,
             "#bd3786"
            ],
            [
             0.5555555555555556,
             "#d8576b"
            ],
            [
             0.6666666666666666,
             "#ed7953"
            ],
            [
             0.7777777777777778,
             "#fb9f3a"
            ],
            [
             0.8888888888888888,
             "#fdca26"
            ],
            [
             1,
             "#f0f921"
            ]
           ],
           "sequentialminus": [
            [
             0,
             "#0d0887"
            ],
            [
             0.1111111111111111,
             "#46039f"
            ],
            [
             0.2222222222222222,
             "#7201a8"
            ],
            [
             0.3333333333333333,
             "#9c179e"
            ],
            [
             0.4444444444444444,
             "#bd3786"
            ],
            [
             0.5555555555555556,
             "#d8576b"
            ],
            [
             0.6666666666666666,
             "#ed7953"
            ],
            [
             0.7777777777777778,
             "#fb9f3a"
            ],
            [
             0.8888888888888888,
             "#fdca26"
            ],
            [
             1,
             "#f0f921"
            ]
           ]
          },
          "colorway": [
           "#636efa",
           "#EF553B",
           "#00cc96",
           "#ab63fa",
           "#FFA15A",
           "#19d3f3",
           "#FF6692",
           "#B6E880",
           "#FF97FF",
           "#FECB52"
          ],
          "font": {
           "color": "#2a3f5f"
          },
          "geo": {
           "bgcolor": "white",
           "lakecolor": "white",
           "landcolor": "#E5ECF6",
           "showlakes": true,
           "showland": true,
           "subunitcolor": "white"
          },
          "hoverlabel": {
           "align": "left"
          },
          "hovermode": "closest",
          "mapbox": {
           "style": "light"
          },
          "paper_bgcolor": "white",
          "plot_bgcolor": "#E5ECF6",
          "polar": {
           "angularaxis": {
            "gridcolor": "white",
            "linecolor": "white",
            "ticks": ""
           },
           "bgcolor": "#E5ECF6",
           "radialaxis": {
            "gridcolor": "white",
            "linecolor": "white",
            "ticks": ""
           }
          },
          "scene": {
           "xaxis": {
            "backgroundcolor": "#E5ECF6",
            "gridcolor": "white",
            "gridwidth": 2,
            "linecolor": "white",
            "showbackground": true,
            "ticks": "",
            "zerolinecolor": "white"
           },
           "yaxis": {
            "backgroundcolor": "#E5ECF6",
            "gridcolor": "white",
            "gridwidth": 2,
            "linecolor": "white",
            "showbackground": true,
            "ticks": "",
            "zerolinecolor": "white"
           },
           "zaxis": {
            "backgroundcolor": "#E5ECF6",
            "gridcolor": "white",
            "gridwidth": 2,
            "linecolor": "white",
            "showbackground": true,
            "ticks": "",
            "zerolinecolor": "white"
           }
          },
          "shapedefaults": {
           "line": {
            "color": "#2a3f5f"
           }
          },
          "ternary": {
           "aaxis": {
            "gridcolor": "white",
            "linecolor": "white",
            "ticks": ""
           },
           "baxis": {
            "gridcolor": "white",
            "linecolor": "white",
            "ticks": ""
           },
           "bgcolor": "#E5ECF6",
           "caxis": {
            "gridcolor": "white",
            "linecolor": "white",
            "ticks": ""
           }
          },
          "title": {
           "x": 0.05
          },
          "xaxis": {
           "automargin": true,
           "gridcolor": "white",
           "linecolor": "white",
           "ticks": "",
           "title": {
            "standoff": 15
           },
           "zerolinecolor": "white",
           "zerolinewidth": 2
          },
          "yaxis": {
           "automargin": true,
           "gridcolor": "white",
           "linecolor": "white",
           "ticks": "",
           "title": {
            "standoff": 15
           },
           "zerolinecolor": "white",
           "zerolinewidth": 2
          }
         }
        },
        "xaxis": {
         "anchor": "y",
         "autorange": false,
         "exponentformat": "e",
         "range": [
          20,
          80
         ],
         "tickfont": {
          "size": 11
         },
         "tickmode": "auto",
         "title": {
          "text": "dd-los"
         },
         "type": "linear"
        },
        "yaxis": {
         "anchor": "x",
         "tickfont": {
          "size": 11
         },
         "tickmode": "auto",
         "title": {
          "text": "error"
         }
        }
       }
      }
     },
     "metadata": {},
     "output_type": "display_data"
    }
   ],
   "source": [
    "render(plot_slice(model, \"dd-los\", \"error\"))"
   ]
  },
  {
   "cell_type": "code",
   "execution_count": 24,
   "metadata": {},
   "outputs": [
    {
     "data": {
      "text/html": [
       "<div>\n",
       "<style scoped>\n",
       "    .dataframe tbody tr th:only-of-type {\n",
       "        vertical-align: middle;\n",
       "    }\n",
       "\n",
       "    .dataframe tbody tr th {\n",
       "        vertical-align: top;\n",
       "    }\n",
       "\n",
       "    .dataframe thead th {\n",
       "        text-align: right;\n",
       "    }\n",
       "</style>\n",
       "<table border=\"1\" class=\"dataframe\">\n",
       "  <thead>\n",
       "    <tr style=\"text-align: right;\">\n",
       "      <th></th>\n",
       "      <th>Unnamed: 0</th>\n",
       "      <th>dd-los</th>\n",
       "      <th>gw-non-covid-los</th>\n",
       "      <th>syswatch-scale</th>\n",
       "      <th>emergency-output</th>\n",
       "      <th>delay-output</th>\n",
       "      <th>overall-error</th>\n",
       "      <th>output-csv-filename</th>\n",
       "      <th>emergency-within-5-perc</th>\n",
       "      <th>delay-within-5-perc</th>\n",
       "      <th>row-type</th>\n",
       "    </tr>\n",
       "  </thead>\n",
       "  <tbody>\n",
       "    <tr>\n",
       "      <th>0</th>\n",
       "      <td>0</td>\n",
       "      <td>53.664804</td>\n",
       "      <td>6.897759</td>\n",
       "      <td>0.963086</td>\n",
       "      <td>509.285714</td>\n",
       "      <td>73.285714</td>\n",
       "      <td>722.130595</td>\n",
       "      <td>none</td>\n",
       "      <td>False</td>\n",
       "      <td>False</td>\n",
       "      <td>actual</td>\n",
       "    </tr>\n",
       "    <tr>\n",
       "      <th>1</th>\n",
       "      <td>1</td>\n",
       "      <td>31.036181</td>\n",
       "      <td>6.089260</td>\n",
       "      <td>0.876577</td>\n",
       "      <td>456.142857</td>\n",
       "      <td>43.571429</td>\n",
       "      <td>1355.435699</td>\n",
       "      <td>none</td>\n",
       "      <td>False</td>\n",
       "      <td>False</td>\n",
       "      <td>actual</td>\n",
       "    </tr>\n",
       "    <tr>\n",
       "      <th>2</th>\n",
       "      <td>2</td>\n",
       "      <td>36.699649</td>\n",
       "      <td>5.062375</td>\n",
       "      <td>0.887085</td>\n",
       "      <td>390.428571</td>\n",
       "      <td>50.428571</td>\n",
       "      <td>957.422190</td>\n",
       "      <td>none</td>\n",
       "      <td>True</td>\n",
       "      <td>False</td>\n",
       "      <td>actual</td>\n",
       "    </tr>\n",
       "    <tr>\n",
       "      <th>3</th>\n",
       "      <td>3</td>\n",
       "      <td>66.853683</td>\n",
       "      <td>5.441196</td>\n",
       "      <td>0.952527</td>\n",
       "      <td>418.857143</td>\n",
       "      <td>94.428571</td>\n",
       "      <td>66.034761</td>\n",
       "      <td>none</td>\n",
       "      <td>False</td>\n",
       "      <td>False</td>\n",
       "      <td>actual</td>\n",
       "    </tr>\n",
       "    <tr>\n",
       "      <th>4</th>\n",
       "      <td>4</td>\n",
       "      <td>51.462551</td>\n",
       "      <td>5.954117</td>\n",
       "      <td>0.964971</td>\n",
       "      <td>444.714286</td>\n",
       "      <td>68.428571</td>\n",
       "      <td>521.827636</td>\n",
       "      <td>none</td>\n",
       "      <td>False</td>\n",
       "      <td>False</td>\n",
       "      <td>actual</td>\n",
       "    </tr>\n",
       "    <tr>\n",
       "      <th>5</th>\n",
       "      <td>5</td>\n",
       "      <td>56.492846</td>\n",
       "      <td>7.342448</td>\n",
       "      <td>0.792696</td>\n",
       "      <td>528.000000</td>\n",
       "      <td>79.857143</td>\n",
       "      <td>729.909374</td>\n",
       "      <td>none</td>\n",
       "      <td>False</td>\n",
       "      <td>False</td>\n",
       "      <td>actual</td>\n",
       "    </tr>\n",
       "    <tr>\n",
       "      <th>6</th>\n",
       "      <td>6</td>\n",
       "      <td>23.479124</td>\n",
       "      <td>7.216818</td>\n",
       "      <td>0.996373</td>\n",
       "      <td>524.714286</td>\n",
       "      <td>28.142857</td>\n",
       "      <td>2427.479775</td>\n",
       "      <td>none</td>\n",
       "      <td>False</td>\n",
       "      <td>False</td>\n",
       "      <td>actual</td>\n",
       "    </tr>\n",
       "    <tr>\n",
       "      <th>7</th>\n",
       "      <td>7</td>\n",
       "      <td>42.523915</td>\n",
       "      <td>5.581884</td>\n",
       "      <td>0.848784</td>\n",
       "      <td>429.428571</td>\n",
       "      <td>58.714286</td>\n",
       "      <td>740.751613</td>\n",
       "      <td>none</td>\n",
       "      <td>False</td>\n",
       "      <td>False</td>\n",
       "      <td>actual</td>\n",
       "    </tr>\n",
       "    <tr>\n",
       "      <th>8</th>\n",
       "      <td>8</td>\n",
       "      <td>27.588600</td>\n",
       "      <td>6.841708</td>\n",
       "      <td>0.791770</td>\n",
       "      <td>501.142857</td>\n",
       "      <td>34.857143</td>\n",
       "      <td>1949.192375</td>\n",
       "      <td>none</td>\n",
       "      <td>False</td>\n",
       "      <td>False</td>\n",
       "      <td>actual</td>\n",
       "    </tr>\n",
       "    <tr>\n",
       "      <th>9</th>\n",
       "      <td>9</td>\n",
       "      <td>43.002638</td>\n",
       "      <td>6.936464</td>\n",
       "      <td>0.880822</td>\n",
       "      <td>505.142857</td>\n",
       "      <td>58.285714</td>\n",
       "      <td>1077.772867</td>\n",
       "      <td>none</td>\n",
       "      <td>False</td>\n",
       "      <td>False</td>\n",
       "      <td>actual</td>\n",
       "    </tr>\n",
       "    <tr>\n",
       "      <th>10</th>\n",
       "      <td>10</td>\n",
       "      <td>80.000000</td>\n",
       "      <td>5.000000</td>\n",
       "      <td>0.751439</td>\n",
       "      <td>390.142857</td>\n",
       "      <td>101.000000</td>\n",
       "      <td>5.068644</td>\n",
       "      <td>none</td>\n",
       "      <td>True</td>\n",
       "      <td>True</td>\n",
       "      <td>actual</td>\n",
       "    </tr>\n",
       "    <tr>\n",
       "      <th>11</th>\n",
       "      <td>11</td>\n",
       "      <td>80.000000</td>\n",
       "      <td>6.479137</td>\n",
       "      <td>0.774405</td>\n",
       "      <td>481.000000</td>\n",
       "      <td>95.428571</td>\n",
       "      <td>272.454064</td>\n",
       "      <td>none</td>\n",
       "      <td>False</td>\n",
       "      <td>False</td>\n",
       "      <td>actual</td>\n",
       "    </tr>\n",
       "    <tr>\n",
       "      <th>12</th>\n",
       "      <td>12</td>\n",
       "      <td>72.581163</td>\n",
       "      <td>5.000000</td>\n",
       "      <td>0.821087</td>\n",
       "      <td>385.000000</td>\n",
       "      <td>102.571429</td>\n",
       "      <td>1.076067</td>\n",
       "      <td>none</td>\n",
       "      <td>True</td>\n",
       "      <td>True</td>\n",
       "      <td>actual</td>\n",
       "    </tr>\n",
       "    <tr>\n",
       "      <th>13</th>\n",
       "      <td>13</td>\n",
       "      <td>75.694334</td>\n",
       "      <td>5.214679</td>\n",
       "      <td>0.876133</td>\n",
       "      <td>411.571429</td>\n",
       "      <td>106.857143</td>\n",
       "      <td>25.895493</td>\n",
       "      <td>none</td>\n",
       "      <td>False</td>\n",
       "      <td>True</td>\n",
       "      <td>actual</td>\n",
       "    </tr>\n",
       "    <tr>\n",
       "      <th>14</th>\n",
       "      <td>14</td>\n",
       "      <td>80.000000</td>\n",
       "      <td>8.000000</td>\n",
       "      <td>0.833461</td>\n",
       "      <td>566.000000</td>\n",
       "      <td>104.714286</td>\n",
       "      <td>848.951514</td>\n",
       "      <td>none</td>\n",
       "      <td>False</td>\n",
       "      <td>True</td>\n",
       "      <td>actual</td>\n",
       "    </tr>\n",
       "    <tr>\n",
       "      <th>15</th>\n",
       "      <td>15</td>\n",
       "      <td>72.180616</td>\n",
       "      <td>5.000000</td>\n",
       "      <td>0.750000</td>\n",
       "      <td>386.571429</td>\n",
       "      <td>106.428571</td>\n",
       "      <td>2.732892</td>\n",
       "      <td>none</td>\n",
       "      <td>True</td>\n",
       "      <td>True</td>\n",
       "      <td>actual</td>\n",
       "    </tr>\n",
       "    <tr>\n",
       "      <th>16</th>\n",
       "      <td>16</td>\n",
       "      <td>75.705423</td>\n",
       "      <td>5.000000</td>\n",
       "      <td>0.767703</td>\n",
       "      <td>386.142857</td>\n",
       "      <td>97.571429</td>\n",
       "      <td>14.411068</td>\n",
       "      <td>none</td>\n",
       "      <td>True</td>\n",
       "      <td>False</td>\n",
       "      <td>actual</td>\n",
       "    </tr>\n",
       "    <tr>\n",
       "      <th>17</th>\n",
       "      <td>17</td>\n",
       "      <td>67.953615</td>\n",
       "      <td>5.000000</td>\n",
       "      <td>0.985550</td>\n",
       "      <td>390.857143</td>\n",
       "      <td>90.142857</td>\n",
       "      <td>66.321772</td>\n",
       "      <td>none</td>\n",
       "      <td>True</td>\n",
       "      <td>False</td>\n",
       "      <td>actual</td>\n",
       "    </tr>\n",
       "    <tr>\n",
       "      <th>18</th>\n",
       "      <td>18</td>\n",
       "      <td>72.962363</td>\n",
       "      <td>5.182940</td>\n",
       "      <td>0.750000</td>\n",
       "      <td>399.000000</td>\n",
       "      <td>108.857143</td>\n",
       "      <td>15.887529</td>\n",
       "      <td>none</td>\n",
       "      <td>True</td>\n",
       "      <td>True</td>\n",
       "      <td>actual</td>\n",
       "    </tr>\n",
       "    <tr>\n",
       "      <th>19</th>\n",
       "      <td>19</td>\n",
       "      <td>75.688099</td>\n",
       "      <td>5.000000</td>\n",
       "      <td>0.750000</td>\n",
       "      <td>391.142857</td>\n",
       "      <td>100.142857</td>\n",
       "      <td>7.503216</td>\n",
       "      <td>none</td>\n",
       "      <td>True</td>\n",
       "      <td>True</td>\n",
       "      <td>actual</td>\n",
       "    </tr>\n",
       "    <tr>\n",
       "      <th>20</th>\n",
       "      <td>20</td>\n",
       "      <td>75.165216</td>\n",
       "      <td>5.000000</td>\n",
       "      <td>0.750000</td>\n",
       "      <td>391.285714</td>\n",
       "      <td>99.571429</td>\n",
       "      <td>9.151488</td>\n",
       "      <td>none</td>\n",
       "      <td>True</td>\n",
       "      <td>True</td>\n",
       "      <td>actual</td>\n",
       "    </tr>\n",
       "    <tr>\n",
       "      <th>21</th>\n",
       "      <td>21</td>\n",
       "      <td>73.071326</td>\n",
       "      <td>5.000000</td>\n",
       "      <td>0.832147</td>\n",
       "      <td>390.714286</td>\n",
       "      <td>98.857143</td>\n",
       "      <td>11.143600</td>\n",
       "      <td>none</td>\n",
       "      <td>True</td>\n",
       "      <td>True</td>\n",
       "      <td>actual</td>\n",
       "    </tr>\n",
       "    <tr>\n",
       "      <th>22</th>\n",
       "      <td>22</td>\n",
       "      <td>80.000000</td>\n",
       "      <td>5.000000</td>\n",
       "      <td>0.750000</td>\n",
       "      <td>393.857143</td>\n",
       "      <td>97.857143</td>\n",
       "      <td>16.659224</td>\n",
       "      <td>none</td>\n",
       "      <td>True</td>\n",
       "      <td>False</td>\n",
       "      <td>actual</td>\n",
       "    </tr>\n",
       "    <tr>\n",
       "      <th>23</th>\n",
       "      <td>23</td>\n",
       "      <td>73.723500</td>\n",
       "      <td>5.000000</td>\n",
       "      <td>0.750000</td>\n",
       "      <td>391.285714</td>\n",
       "      <td>107.857143</td>\n",
       "      <td>7.575592</td>\n",
       "      <td>none</td>\n",
       "      <td>True</td>\n",
       "      <td>True</td>\n",
       "      <td>actual</td>\n",
       "    </tr>\n",
       "    <tr>\n",
       "      <th>24</th>\n",
       "      <td>24</td>\n",
       "      <td>73.523729</td>\n",
       "      <td>5.000000</td>\n",
       "      <td>0.750000</td>\n",
       "      <td>390.857143</td>\n",
       "      <td>101.428571</td>\n",
       "      <td>4.610475</td>\n",
       "      <td>none</td>\n",
       "      <td>True</td>\n",
       "      <td>True</td>\n",
       "      <td>actual</td>\n",
       "    </tr>\n",
       "    <tr>\n",
       "      <th>25</th>\n",
       "      <td>25</td>\n",
       "      <td>73.396205</td>\n",
       "      <td>5.000000</td>\n",
       "      <td>0.750000</td>\n",
       "      <td>386.714286</td>\n",
       "      <td>103.571429</td>\n",
       "      <td>0.870931</td>\n",
       "      <td>none</td>\n",
       "      <td>True</td>\n",
       "      <td>True</td>\n",
       "      <td>actual</td>\n",
       "    </tr>\n",
       "    <tr>\n",
       "      <th>26</th>\n",
       "      <td>26</td>\n",
       "      <td>73.299149</td>\n",
       "      <td>5.000000</td>\n",
       "      <td>0.750000</td>\n",
       "      <td>389.571429</td>\n",
       "      <td>103.285714</td>\n",
       "      <td>1.991861</td>\n",
       "      <td>none</td>\n",
       "      <td>True</td>\n",
       "      <td>True</td>\n",
       "      <td>actual</td>\n",
       "    </tr>\n",
       "    <tr>\n",
       "      <th>27</th>\n",
       "      <td>27</td>\n",
       "      <td>73.213813</td>\n",
       "      <td>5.000000</td>\n",
       "      <td>0.750000</td>\n",
       "      <td>394.285714</td>\n",
       "      <td>97.428571</td>\n",
       "      <td>18.750726</td>\n",
       "      <td>none</td>\n",
       "      <td>True</td>\n",
       "      <td>False</td>\n",
       "      <td>actual</td>\n",
       "    </tr>\n",
       "    <tr>\n",
       "      <th>28</th>\n",
       "      <td>28</td>\n",
       "      <td>73.960490</td>\n",
       "      <td>5.000000</td>\n",
       "      <td>0.750000</td>\n",
       "      <td>395.428571</td>\n",
       "      <td>98.571429</td>\n",
       "      <td>14.971563</td>\n",
       "      <td>none</td>\n",
       "      <td>True</td>\n",
       "      <td>False</td>\n",
       "      <td>actual</td>\n",
       "    </tr>\n",
       "    <tr>\n",
       "      <th>29</th>\n",
       "      <td>29</td>\n",
       "      <td>73.921732</td>\n",
       "      <td>5.000000</td>\n",
       "      <td>0.750000</td>\n",
       "      <td>383.142857</td>\n",
       "      <td>102.571429</td>\n",
       "      <td>0.793144</td>\n",
       "      <td>none</td>\n",
       "      <td>True</td>\n",
       "      <td>True</td>\n",
       "      <td>actual</td>\n",
       "    </tr>\n",
       "    <tr>\n",
       "      <th>30</th>\n",
       "      <td>30</td>\n",
       "      <td>73.960093</td>\n",
       "      <td>5.000000</td>\n",
       "      <td>0.750000</td>\n",
       "      <td>387.142857</td>\n",
       "      <td>102.000000</td>\n",
       "      <td>2.267183</td>\n",
       "      <td>none</td>\n",
       "      <td>True</td>\n",
       "      <td>True</td>\n",
       "      <td>actual</td>\n",
       "    </tr>\n",
       "    <tr>\n",
       "      <th>31</th>\n",
       "      <td>31</td>\n",
       "      <td>73.929142</td>\n",
       "      <td>5.000000</td>\n",
       "      <td>0.750000</td>\n",
       "      <td>393.000000</td>\n",
       "      <td>106.000000</td>\n",
       "      <td>4.902568</td>\n",
       "      <td>none</td>\n",
       "      <td>True</td>\n",
       "      <td>True</td>\n",
       "      <td>actual</td>\n",
       "    </tr>\n",
       "    <tr>\n",
       "      <th>32</th>\n",
       "      <td>32</td>\n",
       "      <td>73.845915</td>\n",
       "      <td>5.000000</td>\n",
       "      <td>0.750000</td>\n",
       "      <td>391.714286</td>\n",
       "      <td>104.571429</td>\n",
       "      <td>2.955627</td>\n",
       "      <td>none</td>\n",
       "      <td>True</td>\n",
       "      <td>True</td>\n",
       "      <td>actual</td>\n",
       "    </tr>\n",
       "    <tr>\n",
       "      <th>33</th>\n",
       "      <td>33</td>\n",
       "      <td>73.796990</td>\n",
       "      <td>5.000000</td>\n",
       "      <td>0.750000</td>\n",
       "      <td>390.428571</td>\n",
       "      <td>98.285714</td>\n",
       "      <td>13.072926</td>\n",
       "      <td>none</td>\n",
       "      <td>True</td>\n",
       "      <td>False</td>\n",
       "      <td>actual</td>\n",
       "    </tr>\n",
       "    <tr>\n",
       "      <th>34</th>\n",
       "      <td>34</td>\n",
       "      <td>73.816563</td>\n",
       "      <td>5.000000</td>\n",
       "      <td>0.750000</td>\n",
       "      <td>390.714286</td>\n",
       "      <td>101.142857</td>\n",
       "      <td>5.057378</td>\n",
       "      <td>none</td>\n",
       "      <td>True</td>\n",
       "      <td>True</td>\n",
       "      <td>actual</td>\n",
       "    </tr>\n",
       "    <tr>\n",
       "      <th>35</th>\n",
       "      <td>35</td>\n",
       "      <td>73.758175</td>\n",
       "      <td>5.000000</td>\n",
       "      <td>0.750000</td>\n",
       "      <td>393.142857</td>\n",
       "      <td>99.714286</td>\n",
       "      <td>9.770134</td>\n",
       "      <td>none</td>\n",
       "      <td>True</td>\n",
       "      <td>True</td>\n",
       "      <td>actual</td>\n",
       "    </tr>\n",
       "    <tr>\n",
       "      <th>36</th>\n",
       "      <td>36</td>\n",
       "      <td>73.871517</td>\n",
       "      <td>5.000000</td>\n",
       "      <td>1.000000</td>\n",
       "      <td>394.285714</td>\n",
       "      <td>102.857143</td>\n",
       "      <td>4.812192</td>\n",
       "      <td>none</td>\n",
       "      <td>True</td>\n",
       "      <td>True</td>\n",
       "      <td>actual</td>\n",
       "    </tr>\n",
       "    <tr>\n",
       "      <th>37</th>\n",
       "      <td>37</td>\n",
       "      <td>73.703677</td>\n",
       "      <td>5.000000</td>\n",
       "      <td>0.760052</td>\n",
       "      <td>395.285714</td>\n",
       "      <td>104.142857</td>\n",
       "      <td>5.068027</td>\n",
       "      <td>none</td>\n",
       "      <td>True</td>\n",
       "      <td>True</td>\n",
       "      <td>actual</td>\n",
       "    </tr>\n",
       "    <tr>\n",
       "      <th>38</th>\n",
       "      <td>38</td>\n",
       "      <td>73.665137</td>\n",
       "      <td>5.000000</td>\n",
       "      <td>0.982027</td>\n",
       "      <td>385.571429</td>\n",
       "      <td>106.428571</td>\n",
       "      <td>2.481349</td>\n",
       "      <td>none</td>\n",
       "      <td>True</td>\n",
       "      <td>True</td>\n",
       "      <td>actual</td>\n",
       "    </tr>\n",
       "  </tbody>\n",
       "</table>\n",
       "</div>"
      ],
      "text/plain": [
       "    Unnamed: 0     dd-los  gw-non-covid-los  syswatch-scale  emergency-output  \\\n",
       "0            0  53.664804          6.897759        0.963086        509.285714   \n",
       "1            1  31.036181          6.089260        0.876577        456.142857   \n",
       "2            2  36.699649          5.062375        0.887085        390.428571   \n",
       "3            3  66.853683          5.441196        0.952527        418.857143   \n",
       "4            4  51.462551          5.954117        0.964971        444.714286   \n",
       "5            5  56.492846          7.342448        0.792696        528.000000   \n",
       "6            6  23.479124          7.216818        0.996373        524.714286   \n",
       "7            7  42.523915          5.581884        0.848784        429.428571   \n",
       "8            8  27.588600          6.841708        0.791770        501.142857   \n",
       "9            9  43.002638          6.936464        0.880822        505.142857   \n",
       "10          10  80.000000          5.000000        0.751439        390.142857   \n",
       "11          11  80.000000          6.479137        0.774405        481.000000   \n",
       "12          12  72.581163          5.000000        0.821087        385.000000   \n",
       "13          13  75.694334          5.214679        0.876133        411.571429   \n",
       "14          14  80.000000          8.000000        0.833461        566.000000   \n",
       "15          15  72.180616          5.000000        0.750000        386.571429   \n",
       "16          16  75.705423          5.000000        0.767703        386.142857   \n",
       "17          17  67.953615          5.000000        0.985550        390.857143   \n",
       "18          18  72.962363          5.182940        0.750000        399.000000   \n",
       "19          19  75.688099          5.000000        0.750000        391.142857   \n",
       "20          20  75.165216          5.000000        0.750000        391.285714   \n",
       "21          21  73.071326          5.000000        0.832147        390.714286   \n",
       "22          22  80.000000          5.000000        0.750000        393.857143   \n",
       "23          23  73.723500          5.000000        0.750000        391.285714   \n",
       "24          24  73.523729          5.000000        0.750000        390.857143   \n",
       "25          25  73.396205          5.000000        0.750000        386.714286   \n",
       "26          26  73.299149          5.000000        0.750000        389.571429   \n",
       "27          27  73.213813          5.000000        0.750000        394.285714   \n",
       "28          28  73.960490          5.000000        0.750000        395.428571   \n",
       "29          29  73.921732          5.000000        0.750000        383.142857   \n",
       "30          30  73.960093          5.000000        0.750000        387.142857   \n",
       "31          31  73.929142          5.000000        0.750000        393.000000   \n",
       "32          32  73.845915          5.000000        0.750000        391.714286   \n",
       "33          33  73.796990          5.000000        0.750000        390.428571   \n",
       "34          34  73.816563          5.000000        0.750000        390.714286   \n",
       "35          35  73.758175          5.000000        0.750000        393.142857   \n",
       "36          36  73.871517          5.000000        1.000000        394.285714   \n",
       "37          37  73.703677          5.000000        0.760052        395.285714   \n",
       "38          38  73.665137          5.000000        0.982027        385.571429   \n",
       "\n",
       "    delay-output  overall-error output-csv-filename  emergency-within-5-perc  \\\n",
       "0      73.285714     722.130595                none                    False   \n",
       "1      43.571429    1355.435699                none                    False   \n",
       "2      50.428571     957.422190                none                     True   \n",
       "3      94.428571      66.034761                none                    False   \n",
       "4      68.428571     521.827636                none                    False   \n",
       "5      79.857143     729.909374                none                    False   \n",
       "6      28.142857    2427.479775                none                    False   \n",
       "7      58.714286     740.751613                none                    False   \n",
       "8      34.857143    1949.192375                none                    False   \n",
       "9      58.285714    1077.772867                none                    False   \n",
       "10    101.000000       5.068644                none                     True   \n",
       "11     95.428571     272.454064                none                    False   \n",
       "12    102.571429       1.076067                none                     True   \n",
       "13    106.857143      25.895493                none                    False   \n",
       "14    104.714286     848.951514                none                    False   \n",
       "15    106.428571       2.732892                none                     True   \n",
       "16     97.571429      14.411068                none                     True   \n",
       "17     90.142857      66.321772                none                     True   \n",
       "18    108.857143      15.887529                none                     True   \n",
       "19    100.142857       7.503216                none                     True   \n",
       "20     99.571429       9.151488                none                     True   \n",
       "21     98.857143      11.143600                none                     True   \n",
       "22     97.857143      16.659224                none                     True   \n",
       "23    107.857143       7.575592                none                     True   \n",
       "24    101.428571       4.610475                none                     True   \n",
       "25    103.571429       0.870931                none                     True   \n",
       "26    103.285714       1.991861                none                     True   \n",
       "27     97.428571      18.750726                none                     True   \n",
       "28     98.571429      14.971563                none                     True   \n",
       "29    102.571429       0.793144                none                     True   \n",
       "30    102.000000       2.267183                none                     True   \n",
       "31    106.000000       4.902568                none                     True   \n",
       "32    104.571429       2.955627                none                     True   \n",
       "33     98.285714      13.072926                none                     True   \n",
       "34    101.142857       5.057378                none                     True   \n",
       "35     99.714286       9.770134                none                     True   \n",
       "36    102.857143       4.812192                none                     True   \n",
       "37    104.142857       5.068027                none                     True   \n",
       "38    106.428571       2.481349                none                     True   \n",
       "\n",
       "    delay-within-5-perc row-type  \n",
       "0                 False   actual  \n",
       "1                 False   actual  \n",
       "2                 False   actual  \n",
       "3                 False   actual  \n",
       "4                 False   actual  \n",
       "5                 False   actual  \n",
       "6                 False   actual  \n",
       "7                 False   actual  \n",
       "8                 False   actual  \n",
       "9                 False   actual  \n",
       "10                 True   actual  \n",
       "11                False   actual  \n",
       "12                 True   actual  \n",
       "13                 True   actual  \n",
       "14                 True   actual  \n",
       "15                 True   actual  \n",
       "16                False   actual  \n",
       "17                False   actual  \n",
       "18                 True   actual  \n",
       "19                 True   actual  \n",
       "20                 True   actual  \n",
       "21                 True   actual  \n",
       "22                False   actual  \n",
       "23                 True   actual  \n",
       "24                 True   actual  \n",
       "25                 True   actual  \n",
       "26                 True   actual  \n",
       "27                False   actual  \n",
       "28                False   actual  \n",
       "29                 True   actual  \n",
       "30                 True   actual  \n",
       "31                 True   actual  \n",
       "32                 True   actual  \n",
       "33                False   actual  \n",
       "34                 True   actual  \n",
       "35                 True   actual  \n",
       "36                 True   actual  \n",
       "37                 True   actual  \n",
       "38                 True   actual  "
      ]
     },
     "execution_count": 24,
     "metadata": {},
     "output_type": "execute_result"
    }
   ],
   "source": [
    "p.results_df[p.results_df['row-type'] == 'actual']"
   ]
  },
  {
   "cell_type": "code",
   "execution_count": 23,
   "metadata": {},
   "outputs": [],
   "source": [
    "# To Do:\n",
    "# Use surrogate model to get original data in the format needed\n",
    "# Copy AX implementation of model with no data\n",
    "# "
   ]
  },
  {
   "cell_type": "code",
   "execution_count": 29,
   "metadata": {},
   "outputs": [
    {
     "data": {
      "text/plain": [
       "GenerationStep(model=<Models.BOTORCH_MODULAR: 'BoTorch'>, num_trials=-1, model_kwargs={'torch_device': None, 'fit_out_of_design': False, 'transform_configs': {'Derelativize': {'use_raw_status_quo': False}, 'Winsorize': {'derelativize_with_raw_status_quo': False}}, 'transforms': [<class 'ax.modelbridge.transforms.winsorize.Winsorize'>, <class 'ax.modelbridge.transforms.remove_fixed.RemoveFixed'>, <class 'ax.modelbridge.transforms.choice_encode.OrderedChoiceToIntegerRange'>, <class 'ax.modelbridge.transforms.one_hot.OneHot'>, <class 'ax.modelbridge.transforms.int_to_float.IntToFloat'>, <class 'ax.modelbridge.transforms.log.Log'>, <class 'ax.modelbridge.transforms.logit.Logit'>, <class 'ax.modelbridge.transforms.unit_x.UnitX'>, <class 'ax.modelbridge.transforms.ivw.IVW'>, <class 'ax.modelbridge.transforms.derelativize.Derelativize'>, <class 'ax.modelbridge.transforms.standardize_y.StandardizeY'>]}, model_gen_kwargs=None, completion_criteria=[], min_trials_observed=0, max_parallelism=3, use_update=False, enforce_num_trials=True, should_deduplicate=False, index=1, model_name='BoTorch')"
      ]
     },
     "execution_count": 29,
     "metadata": {},
     "output_type": "execute_result"
    }
   ],
   "source": [
    "ax_client.generation_strategy.current_node."
   ]
  },
  {
   "cell_type": "code",
   "execution_count": 40,
   "metadata": {},
   "outputs": [
    {
     "data": {
      "text/plain": [
       "ModelSpec(\tmodel_enum=BoTorch,\n",
       "\tmodel_kwargs={\"fit_out_of_design\": false, \"torch_device\": null, \"transform_configs\": {\"Derelativize\": {\"use_raw_status_quo\": false}, \"Winsorize\": {\"derelativize_with_raw_status_quo\": false}}, \"transforms\": [\"<class 'ax.modelbridge.transforms.winsorize.Winsorize'>\", \"<class 'ax.modelbridge.transforms.remove_fixed.RemoveFixed'>\", \"<class 'ax.modelbridge.transforms.choice_encode.OrderedChoiceToIntegerRange'>\", \"<class 'ax.modelbridge.transforms.one_hot.OneHot'>\", \"<class 'ax.modelbridge.transforms.int_to_float.IntToFloat'>\", \"<class 'ax.modelbridge.transforms.log.Log'>\", \"<class 'ax.modelbridge.transforms.logit.Logit'>\", \"<class 'ax.modelbridge.transforms.unit_x.UnitX'>\", \"<class 'ax.modelbridge.transforms.ivw.IVW'>\", \"<class 'ax.modelbridge.transforms.derelativize.Derelativize'>\", \"<class 'ax.modelbridge.transforms.standardize_y.StandardizeY'>\"]},\n",
       "\tmodel_gen_kwargs={},\n",
       "\tmodel_cv_kwargs={},\n",
       ")"
      ]
     },
     "execution_count": 40,
     "metadata": {},
     "output_type": "execute_result"
    }
   ],
   "source": [
    "ax_client.generation_strategy.current_step.model_spec"
   ]
  },
  {
   "cell_type": "code",
   "execution_count": 41,
   "metadata": {},
   "outputs": [],
   "source": [
    "new_model = ax_client.generation_strategy.current_step"
   ]
  },
  {
   "cell_type": "code",
   "execution_count": 53,
   "metadata": {},
   "outputs": [
    {
     "ename": "DataRequiredError",
     "evalue": "`StandardizeY` transform requires non-empty data.",
     "output_type": "error",
     "traceback": [
      "\u001b[1;31m---------------------------------------------------------------------------\u001b[0m",
      "\u001b[1;31mDataRequiredError\u001b[0m                         Traceback (most recent call last)",
      "Cell \u001b[1;32mIn[53], line 1\u001b[0m\n\u001b[1;32m----> 1\u001b[0m m \u001b[38;5;241m=\u001b[39m \u001b[43mnew_model\u001b[49m\u001b[38;5;241;43m.\u001b[39;49m\u001b[43mmodel\u001b[49m\u001b[43m(\u001b[49m\u001b[43msearch_space\u001b[49m\u001b[38;5;241;43m=\u001b[39;49m\u001b[43max_client\u001b[49m\u001b[38;5;241;43m.\u001b[39;49m\u001b[43mexperiment\u001b[49m\u001b[38;5;241;43m.\u001b[39;49m\u001b[43msearch_space\u001b[49m\u001b[43m,\u001b[49m\u001b[43m \u001b[49m\u001b[43mdata\u001b[49m\u001b[38;5;241;43m=\u001b[39;49m\u001b[43max_client\u001b[49m\u001b[38;5;241;43m.\u001b[39;49m\u001b[43mexperiment\u001b[49m\u001b[38;5;241;43m.\u001b[39;49m\u001b[43mfetch_data\u001b[49m\u001b[43m(\u001b[49m\u001b[43m)\u001b[49m\u001b[43m)\u001b[49m\n",
      "File \u001b[1;32mc:\\Users\\hannag01\\Documents\\parallel-bayesopt-experiments\\venv\\lib\\site-packages\\ax\\modelbridge\\registry.py:371\u001b[0m, in \u001b[0;36mModelRegistryBase.__call__\u001b[1;34m(self, search_space, experiment, data, silently_filter_kwargs, **kwargs)\u001b[0m\n\u001b[0;32m    358\u001b[0m bridge_kwargs \u001b[38;5;241m=\u001b[39m consolidate_kwargs(\n\u001b[0;32m    359\u001b[0m     kwargs_iterable\u001b[38;5;241m=\u001b[39m[\n\u001b[0;32m    360\u001b[0m         get_function_default_arguments(bridge_class),\n\u001b[1;32m   (...)\u001b[0m\n\u001b[0;32m    367\u001b[0m     ),\n\u001b[0;32m    368\u001b[0m )\n\u001b[0;32m    370\u001b[0m \u001b[38;5;66;03m# Create model bridge with the consolidated kwargs.\u001b[39;00m\n\u001b[1;32m--> 371\u001b[0m model_bridge \u001b[38;5;241m=\u001b[39m bridge_class(\n\u001b[0;32m    372\u001b[0m     search_space\u001b[38;5;241m=\u001b[39msearch_space \u001b[38;5;129;01mor\u001b[39;00m not_none(experiment)\u001b[38;5;241m.\u001b[39msearch_space,\n\u001b[0;32m    373\u001b[0m     experiment\u001b[38;5;241m=\u001b[39mexperiment,\n\u001b[0;32m    374\u001b[0m     data\u001b[38;5;241m=\u001b[39mdata,\n\u001b[0;32m    375\u001b[0m     model\u001b[38;5;241m=\u001b[39mmodel,\n\u001b[0;32m    376\u001b[0m     \u001b[38;5;241m*\u001b[39m\u001b[38;5;241m*\u001b[39mbridge_kwargs,\n\u001b[0;32m    377\u001b[0m )\n\u001b[0;32m    379\u001b[0m \u001b[38;5;28;01mif\u001b[39;00m model_setup_info\u001b[38;5;241m.\u001b[39mnot_saved_model_kwargs:\n\u001b[0;32m    380\u001b[0m     \u001b[38;5;28;01mfor\u001b[39;00m key \u001b[38;5;129;01min\u001b[39;00m model_setup_info\u001b[38;5;241m.\u001b[39mnot_saved_model_kwargs:\n",
      "File \u001b[1;32mc:\\Users\\hannag01\\Documents\\parallel-bayesopt-experiments\\venv\\lib\\site-packages\\ax\\modelbridge\\torch.py:131\u001b[0m, in \u001b[0;36mTorchModelBridge.__init__\u001b[1;34m(self, experiment, search_space, data, model, transforms, transform_configs, torch_dtype, torch_device, status_quo_name, status_quo_features, optimization_config, fit_out_of_design, fit_abandoned, fit_tracking_metrics, fit_on_init, default_model_gen_options)\u001b[0m\n\u001b[0;32m    126\u001b[0m     optimization_config \u001b[38;5;241m=\u001b[39m not_none(\n\u001b[0;32m    127\u001b[0m         optimization_config \u001b[38;5;129;01mor\u001b[39;00m experiment\u001b[38;5;241m.\u001b[39moptimization_config\n\u001b[0;32m    128\u001b[0m     )\n\u001b[0;32m    129\u001b[0m     \u001b[38;5;28mself\u001b[39m\u001b[38;5;241m.\u001b[39mis_moo_problem \u001b[38;5;241m=\u001b[39m optimization_config\u001b[38;5;241m.\u001b[39mis_moo_problem\n\u001b[1;32m--> 131\u001b[0m \u001b[38;5;28;43msuper\u001b[39;49m\u001b[43m(\u001b[49m\u001b[43m)\u001b[49m\u001b[38;5;241;43m.\u001b[39;49m\u001b[38;5;21;43m__init__\u001b[39;49m\u001b[43m(\u001b[49m\n\u001b[0;32m    132\u001b[0m \u001b[43m    \u001b[49m\u001b[43mexperiment\u001b[49m\u001b[38;5;241;43m=\u001b[39;49m\u001b[43mexperiment\u001b[49m\u001b[43m,\u001b[49m\n\u001b[0;32m    133\u001b[0m \u001b[43m    \u001b[49m\u001b[43msearch_space\u001b[49m\u001b[38;5;241;43m=\u001b[39;49m\u001b[43msearch_space\u001b[49m\u001b[43m,\u001b[49m\n\u001b[0;32m    134\u001b[0m \u001b[43m    \u001b[49m\u001b[43mdata\u001b[49m\u001b[38;5;241;43m=\u001b[39;49m\u001b[43mdata\u001b[49m\u001b[43m,\u001b[49m\n\u001b[0;32m    135\u001b[0m \u001b[43m    \u001b[49m\u001b[43mmodel\u001b[49m\u001b[38;5;241;43m=\u001b[39;49m\u001b[43mmodel\u001b[49m\u001b[43m,\u001b[49m\n\u001b[0;32m    136\u001b[0m \u001b[43m    \u001b[49m\u001b[43mtransforms\u001b[49m\u001b[38;5;241;43m=\u001b[39;49m\u001b[43mtransforms\u001b[49m\u001b[43m,\u001b[49m\n\u001b[0;32m    137\u001b[0m \u001b[43m    \u001b[49m\u001b[43mtransform_configs\u001b[49m\u001b[38;5;241;43m=\u001b[39;49m\u001b[43mtransform_configs\u001b[49m\u001b[43m,\u001b[49m\n\u001b[0;32m    138\u001b[0m \u001b[43m    \u001b[49m\u001b[43mstatus_quo_name\u001b[49m\u001b[38;5;241;43m=\u001b[39;49m\u001b[43mstatus_quo_name\u001b[49m\u001b[43m,\u001b[49m\n\u001b[0;32m    139\u001b[0m \u001b[43m    \u001b[49m\u001b[43mstatus_quo_features\u001b[49m\u001b[38;5;241;43m=\u001b[39;49m\u001b[43mstatus_quo_features\u001b[49m\u001b[43m,\u001b[49m\n\u001b[0;32m    140\u001b[0m \u001b[43m    \u001b[49m\u001b[43moptimization_config\u001b[49m\u001b[38;5;241;43m=\u001b[39;49m\u001b[43moptimization_config\u001b[49m\u001b[43m,\u001b[49m\n\u001b[0;32m    141\u001b[0m \u001b[43m    \u001b[49m\u001b[43mfit_out_of_design\u001b[49m\u001b[38;5;241;43m=\u001b[39;49m\u001b[43mfit_out_of_design\u001b[49m\u001b[43m,\u001b[49m\n\u001b[0;32m    142\u001b[0m \u001b[43m    \u001b[49m\u001b[43mfit_abandoned\u001b[49m\u001b[38;5;241;43m=\u001b[39;49m\u001b[43mfit_abandoned\u001b[49m\u001b[43m,\u001b[49m\n\u001b[0;32m    143\u001b[0m \u001b[43m    \u001b[49m\u001b[43mfit_tracking_metrics\u001b[49m\u001b[38;5;241;43m=\u001b[39;49m\u001b[43mfit_tracking_metrics\u001b[49m\u001b[43m,\u001b[49m\n\u001b[0;32m    144\u001b[0m \u001b[43m    \u001b[49m\u001b[43mfit_on_init\u001b[49m\u001b[38;5;241;43m=\u001b[39;49m\u001b[43mfit_on_init\u001b[49m\u001b[43m,\u001b[49m\n\u001b[0;32m    145\u001b[0m \u001b[43m\u001b[49m\u001b[43m)\u001b[49m\n",
      "File \u001b[1;32mc:\\Users\\hannag01\\Documents\\parallel-bayesopt-experiments\\venv\\lib\\site-packages\\ax\\modelbridge\\base.py:204\u001b[0m, in \u001b[0;36mModelBridge.__init__\u001b[1;34m(self, search_space, model, transforms, experiment, data, transform_configs, status_quo_name, status_quo_features, optimization_config, fit_out_of_design, fit_abandoned, fit_tracking_metrics, fit_on_init)\u001b[0m\n\u001b[0;32m    202\u001b[0m \u001b[38;5;28mself\u001b[39m\u001b[38;5;241m.\u001b[39mmodel \u001b[38;5;241m=\u001b[39m model\n\u001b[0;32m    203\u001b[0m \u001b[38;5;28;01mif\u001b[39;00m fit_on_init:\n\u001b[1;32m--> 204\u001b[0m     observations, search_space \u001b[38;5;241m=\u001b[39m \u001b[38;5;28;43mself\u001b[39;49m\u001b[38;5;241;43m.\u001b[39;49m\u001b[43m_transform_data\u001b[49m\u001b[43m(\u001b[49m\n\u001b[0;32m    205\u001b[0m \u001b[43m        \u001b[49m\u001b[43mobservations\u001b[49m\u001b[38;5;241;43m=\u001b[39;49m\u001b[43mobservations_raw\u001b[49m\u001b[43m,\u001b[49m\n\u001b[0;32m    206\u001b[0m \u001b[43m        \u001b[49m\u001b[43msearch_space\u001b[49m\u001b[38;5;241;43m=\u001b[39;49m\u001b[38;5;28;43mself\u001b[39;49m\u001b[38;5;241;43m.\u001b[39;49m\u001b[43m_model_space\u001b[49m\u001b[43m,\u001b[49m\n\u001b[0;32m    207\u001b[0m \u001b[43m        \u001b[49m\u001b[43mtransforms\u001b[49m\u001b[38;5;241;43m=\u001b[39;49m\u001b[38;5;28;43mself\u001b[39;49m\u001b[38;5;241;43m.\u001b[39;49m\u001b[43m_raw_transforms\u001b[49m\u001b[43m,\u001b[49m\n\u001b[0;32m    208\u001b[0m \u001b[43m        \u001b[49m\u001b[43mtransform_configs\u001b[49m\u001b[38;5;241;43m=\u001b[39;49m\u001b[38;5;28;43mself\u001b[39;49m\u001b[38;5;241;43m.\u001b[39;49m\u001b[43m_transform_configs\u001b[49m\u001b[43m,\u001b[49m\n\u001b[0;32m    209\u001b[0m \u001b[43m    \u001b[49m\u001b[43m)\u001b[49m\n\u001b[0;32m    210\u001b[0m     \u001b[38;5;28mself\u001b[39m\u001b[38;5;241m.\u001b[39m_fit_if_implemented(\n\u001b[0;32m    211\u001b[0m         search_space\u001b[38;5;241m=\u001b[39msearch_space,\n\u001b[0;32m    212\u001b[0m         observations\u001b[38;5;241m=\u001b[39mobservations,\n\u001b[0;32m    213\u001b[0m         time_so_far\u001b[38;5;241m=\u001b[39mtime\u001b[38;5;241m.\u001b[39mmonotonic() \u001b[38;5;241m-\u001b[39m t_fit_start,\n\u001b[0;32m    214\u001b[0m     )\n",
      "File \u001b[1;32mc:\\Users\\hannag01\\Documents\\parallel-bayesopt-experiments\\venv\\lib\\site-packages\\ax\\modelbridge\\base.py:291\u001b[0m, in \u001b[0;36mModelBridge._transform_data\u001b[1;34m(self, observations, search_space, transforms, transform_configs, assign_transforms)\u001b[0m\n\u001b[0;32m    288\u001b[0m     transform_configs \u001b[38;5;241m=\u001b[39m {}\n\u001b[0;32m    290\u001b[0m \u001b[38;5;28;01mfor\u001b[39;00m t \u001b[38;5;129;01min\u001b[39;00m transforms:\n\u001b[1;32m--> 291\u001b[0m     t_instance \u001b[38;5;241m=\u001b[39m \u001b[43mt\u001b[49m\u001b[43m(\u001b[49m\n\u001b[0;32m    292\u001b[0m \u001b[43m        \u001b[49m\u001b[43msearch_space\u001b[49m\u001b[38;5;241;43m=\u001b[39;49m\u001b[43msearch_space\u001b[49m\u001b[43m,\u001b[49m\n\u001b[0;32m    293\u001b[0m \u001b[43m        \u001b[49m\u001b[43mobservations\u001b[49m\u001b[38;5;241;43m=\u001b[39;49m\u001b[43mobservations\u001b[49m\u001b[43m,\u001b[49m\n\u001b[0;32m    294\u001b[0m \u001b[43m        \u001b[49m\u001b[43mmodelbridge\u001b[49m\u001b[38;5;241;43m=\u001b[39;49m\u001b[38;5;28;43mself\u001b[39;49m\u001b[43m,\u001b[49m\n\u001b[0;32m    295\u001b[0m \u001b[43m        \u001b[49m\u001b[43mconfig\u001b[49m\u001b[38;5;241;43m=\u001b[39;49m\u001b[43mtransform_configs\u001b[49m\u001b[38;5;241;43m.\u001b[39;49m\u001b[43mget\u001b[49m\u001b[43m(\u001b[49m\u001b[43mt\u001b[49m\u001b[38;5;241;43m.\u001b[39;49m\u001b[38;5;18;43m__name__\u001b[39;49m\u001b[43m,\u001b[49m\u001b[43m \u001b[49m\u001b[38;5;28;43;01mNone\u001b[39;49;00m\u001b[43m)\u001b[49m\u001b[43m,\u001b[49m\n\u001b[0;32m    296\u001b[0m \u001b[43m    \u001b[49m\u001b[43m)\u001b[49m\n\u001b[0;32m    297\u001b[0m     search_space \u001b[38;5;241m=\u001b[39m t_instance\u001b[38;5;241m.\u001b[39mtransform_search_space(search_space)\n\u001b[0;32m    298\u001b[0m     observations \u001b[38;5;241m=\u001b[39m t_instance\u001b[38;5;241m.\u001b[39mtransform_observations(observations)\n",
      "File \u001b[1;32mc:\\Users\\hannag01\\Documents\\parallel-bayesopt-experiments\\venv\\lib\\site-packages\\ax\\modelbridge\\transforms\\standardize_y.py:47\u001b[0m, in \u001b[0;36mStandardizeY.__init__\u001b[1;34m(self, search_space, observations, modelbridge, config)\u001b[0m\n\u001b[0;32m     39\u001b[0m \u001b[38;5;28;01mdef\u001b[39;00m \u001b[38;5;21m__init__\u001b[39m(\n\u001b[0;32m     40\u001b[0m     \u001b[38;5;28mself\u001b[39m,\n\u001b[0;32m     41\u001b[0m     search_space: Optional[SearchSpace] \u001b[38;5;241m=\u001b[39m \u001b[38;5;28;01mNone\u001b[39;00m,\n\u001b[1;32m   (...)\u001b[0m\n\u001b[0;32m     44\u001b[0m     config: Optional[TConfig] \u001b[38;5;241m=\u001b[39m \u001b[38;5;28;01mNone\u001b[39;00m,\n\u001b[0;32m     45\u001b[0m ) \u001b[38;5;241m-\u001b[39m\u001b[38;5;241m>\u001b[39m \u001b[38;5;28;01mNone\u001b[39;00m:\n\u001b[0;32m     46\u001b[0m     \u001b[38;5;28;01mif\u001b[39;00m observations \u001b[38;5;129;01mis\u001b[39;00m \u001b[38;5;28;01mNone\u001b[39;00m \u001b[38;5;129;01mor\u001b[39;00m \u001b[38;5;28mlen\u001b[39m(observations) \u001b[38;5;241m==\u001b[39m \u001b[38;5;241m0\u001b[39m:\n\u001b[1;32m---> 47\u001b[0m         \u001b[38;5;28;01mraise\u001b[39;00m DataRequiredError(\u001b[38;5;124m\"\u001b[39m\u001b[38;5;124m`StandardizeY` transform requires non-empty data.\u001b[39m\u001b[38;5;124m\"\u001b[39m)\n\u001b[0;32m     48\u001b[0m     observation_data \u001b[38;5;241m=\u001b[39m [obs\u001b[38;5;241m.\u001b[39mdata \u001b[38;5;28;01mfor\u001b[39;00m obs \u001b[38;5;129;01min\u001b[39;00m observations]\n\u001b[0;32m     49\u001b[0m     Ys \u001b[38;5;241m=\u001b[39m get_data(observation_data\u001b[38;5;241m=\u001b[39mobservation_data)\n",
      "\u001b[1;31mDataRequiredError\u001b[0m: `StandardizeY` transform requires non-empty data."
     ]
    }
   ],
   "source": [
    "m = new_model.model(search_space=ax_client.experiment.search_space, data=ax_client.experiment.fetch_data())"
   ]
  },
  {
   "cell_type": "code",
   "execution_count": 54,
   "metadata": {},
   "outputs": [],
   "source": [
    "same_data = ax_client.experiment.fetch_data()"
   ]
  },
  {
   "cell_type": "code",
   "execution_count": 55,
   "metadata": {},
   "outputs": [
    {
     "data": {
      "text/plain": [
       "<ax.core.data.Data at 0x1e9835d79a0>"
      ]
     },
     "execution_count": 55,
     "metadata": {},
     "output_type": "execute_result"
    }
   ],
   "source": [
    "same_data"
   ]
  },
  {
   "cell_type": "code",
   "execution_count": 56,
   "metadata": {},
   "outputs": [],
   "source": [
    "new_experiment = ax_client.experiment.clone_with(data=same_data)"
   ]
  },
  {
   "cell_type": "code",
   "execution_count": 60,
   "metadata": {},
   "outputs": [
    {
     "name": "stderr",
     "output_type": "stream",
     "text": [
      "[INFO 07-23 12:35:03] ax.service.ax_client: Starting optimization with verbose logging. To disable logging, set the `verbose_logging` argument to `False`. Note that float values in the logs are rounded to 6 decimal points.\n"
     ]
    }
   ],
   "source": [
    "ax_client2 = AxClient()"
   ]
  },
  {
   "cell_type": "code",
   "execution_count": 63,
   "metadata": {},
   "outputs": [
    {
     "ename": "TypeError",
     "evalue": "'Experiment' object is not iterable",
     "output_type": "error",
     "traceback": [
      "\u001b[1;31m---------------------------------------------------------------------------\u001b[0m",
      "\u001b[1;31mTypeError\u001b[0m                                 Traceback (most recent call last)",
      "Cell \u001b[1;32mIn[63], line 1\u001b[0m\n\u001b[1;32m----> 1\u001b[0m \u001b[43max_client2\u001b[49m\u001b[38;5;241;43m.\u001b[39;49m\u001b[43mcreate_experiment\u001b[49m\u001b[43m(\u001b[49m\u001b[43mnew_experiment\u001b[49m\u001b[43m)\u001b[49m\n",
      "File \u001b[1;32mc:\\Users\\hannag01\\Documents\\parallel-bayesopt-experiments\\venv\\lib\\site-packages\\ax\\service\\ax_client.py:340\u001b[0m, in \u001b[0;36mAxClient.create_experiment\u001b[1;34m(self, parameters, name, description, owners, objectives, parameter_constraints, outcome_constraints, status_quo, overwrite_existing_experiment, experiment_type, tracking_metric_names, choose_generation_strategy_kwargs, support_intermediate_data, immutable_search_space_and_opt_config, is_test, metric_definitions)\u001b[0m\n\u001b[0;32m    335\u001b[0m     \u001b[38;5;28;01mif\u001b[39;00m \u001b[38;5;28mlen\u001b[39m(objectives\u001b[38;5;241m.\u001b[39mkeys()) \u001b[38;5;241m>\u001b[39m \u001b[38;5;241m1\u001b[39m:\n\u001b[0;32m    336\u001b[0m         objective_kwargs[\u001b[38;5;124m\"\u001b[39m\u001b[38;5;124mobjective_thresholds\u001b[39m\u001b[38;5;124m\"\u001b[39m] \u001b[38;5;241m=\u001b[39m (\n\u001b[0;32m    337\u001b[0m             \u001b[38;5;28mself\u001b[39m\u001b[38;5;241m.\u001b[39mbuild_objective_thresholds(objectives)\n\u001b[0;32m    338\u001b[0m         )\n\u001b[1;32m--> 340\u001b[0m experiment \u001b[38;5;241m=\u001b[39m \u001b[38;5;28mself\u001b[39m\u001b[38;5;241m.\u001b[39mmake_experiment(\n\u001b[0;32m    341\u001b[0m     name\u001b[38;5;241m=\u001b[39mname,\n\u001b[0;32m    342\u001b[0m     description\u001b[38;5;241m=\u001b[39mdescription,\n\u001b[0;32m    343\u001b[0m     owners\u001b[38;5;241m=\u001b[39mowners,\n\u001b[0;32m    344\u001b[0m     parameters\u001b[38;5;241m=\u001b[39mparameters,\n\u001b[0;32m    345\u001b[0m     parameter_constraints\u001b[38;5;241m=\u001b[39mparameter_constraints,\n\u001b[0;32m    346\u001b[0m     outcome_constraints\u001b[38;5;241m=\u001b[39moutcome_constraints,\n\u001b[0;32m    347\u001b[0m     status_quo\u001b[38;5;241m=\u001b[39mstatus_quo,\n\u001b[0;32m    348\u001b[0m     experiment_type\u001b[38;5;241m=\u001b[39mexperiment_type,\n\u001b[0;32m    349\u001b[0m     tracking_metric_names\u001b[38;5;241m=\u001b[39mtracking_metric_names,\n\u001b[0;32m    350\u001b[0m     metric_definitions\u001b[38;5;241m=\u001b[39mmetric_definitions,\n\u001b[0;32m    351\u001b[0m     support_intermediate_data\u001b[38;5;241m=\u001b[39msupport_intermediate_data,\n\u001b[0;32m    352\u001b[0m     immutable_search_space_and_opt_config\u001b[38;5;241m=\u001b[39mimmutable_search_space_and_opt_config,\n\u001b[0;32m    353\u001b[0m     is_test\u001b[38;5;241m=\u001b[39mis_test,\n\u001b[0;32m    354\u001b[0m     \u001b[38;5;241m*\u001b[39m\u001b[38;5;241m*\u001b[39mobjective_kwargs,\n\u001b[0;32m    355\u001b[0m )\n\u001b[0;32m    356\u001b[0m \u001b[38;5;28mself\u001b[39m\u001b[38;5;241m.\u001b[39m_set_runner(experiment\u001b[38;5;241m=\u001b[39mexperiment)\n\u001b[0;32m    357\u001b[0m \u001b[38;5;28mself\u001b[39m\u001b[38;5;241m.\u001b[39m_set_experiment(\n\u001b[0;32m    358\u001b[0m     experiment\u001b[38;5;241m=\u001b[39mexperiment,\n\u001b[0;32m    359\u001b[0m     overwrite_existing_experiment\u001b[38;5;241m=\u001b[39moverwrite_existing_experiment,\n\u001b[0;32m    360\u001b[0m )\n",
      "File \u001b[1;32mc:\\Users\\hannag01\\Documents\\parallel-bayesopt-experiments\\venv\\lib\\site-packages\\ax\\service\\utils\\instantiation.py:884\u001b[0m, in \u001b[0;36mInstantiationBase.make_experiment\u001b[1;34m(cls, parameters, name, description, owners, parameter_constraints, outcome_constraints, status_quo, experiment_type, tracking_metric_names, metric_definitions, objectives, objective_thresholds, support_intermediate_data, immutable_search_space_and_opt_config, is_test)\u001b[0m\n\u001b[0;32m    878\u001b[0m \u001b[38;5;28;01mif\u001b[39;00m owners \u001b[38;5;129;01mis\u001b[39;00m \u001b[38;5;129;01mnot\u001b[39;00m \u001b[38;5;28;01mNone\u001b[39;00m:\n\u001b[0;32m    879\u001b[0m     properties[\u001b[38;5;124m\"\u001b[39m\u001b[38;5;124mowners\u001b[39m\u001b[38;5;124m\"\u001b[39m] \u001b[38;5;241m=\u001b[39m owners\n\u001b[0;32m    881\u001b[0m \u001b[38;5;28;01mreturn\u001b[39;00m Experiment(\n\u001b[0;32m    882\u001b[0m     name\u001b[38;5;241m=\u001b[39mname,\n\u001b[0;32m    883\u001b[0m     description\u001b[38;5;241m=\u001b[39mdescription,\n\u001b[1;32m--> 884\u001b[0m     search_space\u001b[38;5;241m=\u001b[39m\u001b[38;5;28;43mcls\u001b[39;49m\u001b[38;5;241;43m.\u001b[39;49m\u001b[43mmake_search_space\u001b[49m\u001b[43m(\u001b[49m\u001b[43mparameters\u001b[49m\u001b[43m,\u001b[49m\u001b[43m \u001b[49m\u001b[43mparameter_constraints\u001b[49m\u001b[43m)\u001b[49m,\n\u001b[0;32m    885\u001b[0m     optimization_config\u001b[38;5;241m=\u001b[39moptimization_config,\n\u001b[0;32m    886\u001b[0m     status_quo\u001b[38;5;241m=\u001b[39mstatus_quo_arm,\n\u001b[0;32m    887\u001b[0m     experiment_type\u001b[38;5;241m=\u001b[39mexperiment_type,\n\u001b[0;32m    888\u001b[0m     tracking_metrics\u001b[38;5;241m=\u001b[39mtracking_metrics,\n\u001b[0;32m    889\u001b[0m     default_data_type\u001b[38;5;241m=\u001b[39mdefault_data_type,\n\u001b[0;32m    890\u001b[0m     properties\u001b[38;5;241m=\u001b[39mproperties,\n\u001b[0;32m    891\u001b[0m     is_test\u001b[38;5;241m=\u001b[39mis_test,\n\u001b[0;32m    892\u001b[0m )\n",
      "File \u001b[1;32mc:\\Users\\hannag01\\Documents\\parallel-bayesopt-experiments\\venv\\lib\\site-packages\\ax\\service\\utils\\instantiation.py:708\u001b[0m, in \u001b[0;36mInstantiationBase.make_search_space\u001b[1;34m(cls, parameters, parameter_constraints)\u001b[0m\n\u001b[0;32m    699\u001b[0m \u001b[38;5;129m@classmethod\u001b[39m\n\u001b[0;32m    700\u001b[0m \u001b[38;5;28;01mdef\u001b[39;00m \u001b[38;5;21mmake_search_space\u001b[39m(\n\u001b[0;32m    701\u001b[0m     \u001b[38;5;28mcls\u001b[39m,\n\u001b[0;32m    702\u001b[0m     parameters: List[TParameterRepresentation],\n\u001b[0;32m    703\u001b[0m     parameter_constraints: Optional[List[\u001b[38;5;28mstr\u001b[39m]],\n\u001b[0;32m    704\u001b[0m ) \u001b[38;5;241m-\u001b[39m\u001b[38;5;241m>\u001b[39m SearchSpace:\n\u001b[0;32m    705\u001b[0m     parameter_constraints \u001b[38;5;241m=\u001b[39m (\n\u001b[0;32m    706\u001b[0m         parameter_constraints \u001b[38;5;28;01mif\u001b[39;00m parameter_constraints \u001b[38;5;129;01mis\u001b[39;00m \u001b[38;5;129;01mnot\u001b[39;00m \u001b[38;5;28;01mNone\u001b[39;00m \u001b[38;5;28;01melse\u001b[39;00m []\n\u001b[0;32m    707\u001b[0m     )\n\u001b[1;32m--> 708\u001b[0m     typed_parameters \u001b[38;5;241m=\u001b[39m [\u001b[38;5;28mcls\u001b[39m\u001b[38;5;241m.\u001b[39mparameter_from_json(p) \u001b[38;5;28;01mfor\u001b[39;00m p \u001b[38;5;129;01min\u001b[39;00m parameters]\n\u001b[0;32m    709\u001b[0m     is_hss \u001b[38;5;241m=\u001b[39m \u001b[38;5;28many\u001b[39m(p\u001b[38;5;241m.\u001b[39mis_hierarchical \u001b[38;5;28;01mfor\u001b[39;00m p \u001b[38;5;129;01min\u001b[39;00m typed_parameters)\n\u001b[0;32m    710\u001b[0m     search_space_cls \u001b[38;5;241m=\u001b[39m HierarchicalSearchSpace \u001b[38;5;28;01mif\u001b[39;00m is_hss \u001b[38;5;28;01melse\u001b[39;00m SearchSpace\n",
      "\u001b[1;31mTypeError\u001b[0m: 'Experiment' object is not iterable"
     ]
    }
   ],
   "source": [
    "ax_client2."
   ]
  },
  {
   "cell_type": "code",
   "execution_count": 46,
   "metadata": {},
   "outputs": [
    {
     "ename": "TypeError",
     "evalue": "Enum._generate_next_value_() missing 3 required positional arguments: 'start', 'count', and 'last_values'",
     "output_type": "error",
     "traceback": [
      "\u001b[1;31m---------------------------------------------------------------------------\u001b[0m",
      "\u001b[1;31mTypeError\u001b[0m                                 Traceback (most recent call last)",
      "Cell \u001b[1;32mIn[46], line 1\u001b[0m\n\u001b[1;32m----> 1\u001b[0m \u001b[43mnew_model\u001b[49m\u001b[38;5;241;43m.\u001b[39;49m\u001b[43mmodel\u001b[49m\u001b[38;5;241;43m.\u001b[39;49m\u001b[43m_generate_next_value_\u001b[49m\u001b[43m(\u001b[49m\u001b[43m)\u001b[49m\n",
      "\u001b[1;31mTypeError\u001b[0m: Enum._generate_next_value_() missing 3 required positional arguments: 'start', 'count', and 'last_values'"
     ]
    }
   ],
   "source": [
    "new_model.model._generate_next_value_()"
   ]
  },
  {
   "cell_type": "code",
   "execution_count": 52,
   "metadata": {},
   "outputs": [
    {
     "data": {
      "text/html": [
       "<div>\n",
       "<style scoped>\n",
       "    .dataframe tbody tr th:only-of-type {\n",
       "        vertical-align: middle;\n",
       "    }\n",
       "\n",
       "    .dataframe tbody tr th {\n",
       "        vertical-align: top;\n",
       "    }\n",
       "\n",
       "    .dataframe thead th {\n",
       "        text-align: right;\n",
       "    }\n",
       "</style>\n",
       "<table border=\"1\" class=\"dataframe\">\n",
       "  <thead>\n",
       "    <tr style=\"text-align: right;\">\n",
       "      <th></th>\n",
       "      <th>arm_name</th>\n",
       "      <th>metric_name</th>\n",
       "      <th>mean</th>\n",
       "      <th>sem</th>\n",
       "      <th>trial_index</th>\n",
       "    </tr>\n",
       "  </thead>\n",
       "  <tbody>\n",
       "    <tr>\n",
       "      <th>0</th>\n",
       "      <td>0_0</td>\n",
       "      <td>emergency_from_actual</td>\n",
       "      <td>0.182525</td>\n",
       "      <td>NaN</td>\n",
       "      <td>0</td>\n",
       "    </tr>\n",
       "    <tr>\n",
       "      <th>1</th>\n",
       "      <td>0_0</td>\n",
       "      <td>delays_from_actual</td>\n",
       "      <td>0.085149</td>\n",
       "      <td>NaN</td>\n",
       "      <td>0</td>\n",
       "    </tr>\n",
       "    <tr>\n",
       "      <th>2</th>\n",
       "      <td>0_0</td>\n",
       "      <td>emergencies</td>\n",
       "      <td>450.542069</td>\n",
       "      <td>NaN</td>\n",
       "      <td>0</td>\n",
       "    </tr>\n",
       "    <tr>\n",
       "      <th>3</th>\n",
       "      <td>0_0</td>\n",
       "      <td>delays</td>\n",
       "      <td>95.144525</td>\n",
       "      <td>NaN</td>\n",
       "      <td>0</td>\n",
       "    </tr>\n",
       "    <tr>\n",
       "      <th>4</th>\n",
       "      <td>0_0</td>\n",
       "      <td>error</td>\n",
       "      <td>146.036650</td>\n",
       "      <td>NaN</td>\n",
       "      <td>0</td>\n",
       "    </tr>\n",
       "    <tr>\n",
       "      <th>...</th>\n",
       "      <td>...</td>\n",
       "      <td>...</td>\n",
       "      <td>...</td>\n",
       "      <td>...</td>\n",
       "      <td>...</td>\n",
       "    </tr>\n",
       "    <tr>\n",
       "      <th>95</th>\n",
       "      <td>19_0</td>\n",
       "      <td>emergency_from_actual</td>\n",
       "      <td>0.024440</td>\n",
       "      <td>NaN</td>\n",
       "      <td>19</td>\n",
       "    </tr>\n",
       "    <tr>\n",
       "      <th>96</th>\n",
       "      <td>19_0</td>\n",
       "      <td>delays_from_actual</td>\n",
       "      <td>0.042528</td>\n",
       "      <td>NaN</td>\n",
       "      <td>19</td>\n",
       "    </tr>\n",
       "    <tr>\n",
       "      <th>97</th>\n",
       "      <td>19_0</td>\n",
       "      <td>emergencies</td>\n",
       "      <td>390.311731</td>\n",
       "      <td>NaN</td>\n",
       "      <td>19</td>\n",
       "    </tr>\n",
       "    <tr>\n",
       "      <th>98</th>\n",
       "      <td>19_0</td>\n",
       "      <td>delays</td>\n",
       "      <td>99.577139</td>\n",
       "      <td>NaN</td>\n",
       "      <td>19</td>\n",
       "    </tr>\n",
       "    <tr>\n",
       "      <th>99</th>\n",
       "      <td>19_0</td>\n",
       "      <td>error</td>\n",
       "      <td>8.661292</td>\n",
       "      <td>NaN</td>\n",
       "      <td>19</td>\n",
       "    </tr>\n",
       "  </tbody>\n",
       "</table>\n",
       "<p>100 rows × 5 columns</p>\n",
       "</div>"
      ],
      "text/plain": [
       "   arm_name            metric_name        mean  sem  trial_index\n",
       "0       0_0  emergency_from_actual    0.182525  NaN            0\n",
       "1       0_0     delays_from_actual    0.085149  NaN            0\n",
       "2       0_0            emergencies  450.542069  NaN            0\n",
       "3       0_0                 delays   95.144525  NaN            0\n",
       "4       0_0                  error  146.036650  NaN            0\n",
       "..      ...                    ...         ...  ...          ...\n",
       "95     19_0  emergency_from_actual    0.024440  NaN           19\n",
       "96     19_0     delays_from_actual    0.042528  NaN           19\n",
       "97     19_0            emergencies  390.311731  NaN           19\n",
       "98     19_0                 delays   99.577139  NaN           19\n",
       "99     19_0                  error    8.661292  NaN           19\n",
       "\n",
       "[100 rows x 5 columns]"
      ]
     },
     "execution_count": 52,
     "metadata": {},
     "output_type": "execute_result"
    }
   ],
   "source": [
    "ax_client.experiment.fetch_data().df"
   ]
  },
  {
   "cell_type": "code",
   "execution_count": 68,
   "metadata": {},
   "outputs": [],
   "source": [
    "# from ax.modelbridge.factory import get_MOO_NEHVI\n",
    "from ax.modelbridge.registry import Models\n",
    "from ax.modelbridge.modelbridge_utils import observed_hypervolume"
   ]
  },
  {
   "cell_type": "code",
   "execution_count": 75,
   "metadata": {},
   "outputs": [
    {
     "data": {
      "text/plain": [
       "OrderedDict([(18,\n",
       "              ({'dd-los': 69.43576291838708,\n",
       "                'gw-non-covid-los': 5.0,\n",
       "                'syswatch-scale': 0.88001172400287},\n",
       "               ({'delays': 103.07744654698064,\n",
       "                 'delays_from_actual': 0.020835363767784137,\n",
       "                 'emergencies': 389.909316611623,\n",
       "                 'emergency_from_actual': 0.023384036456086665,\n",
       "                 'error': 3.4853167322953595},\n",
       "                {'delays': {'delays': 5.582497281462046,\n",
       "                  'delays_from_actual': 0.0,\n",
       "                  'emergencies': 0.0,\n",
       "                  'emergency_from_actual': 0.0,\n",
       "                  'error': 0.0},\n",
       "                 'delays_from_actual': {'delays': 0.0,\n",
       "                  'delays_from_actual': 0.00019230262479701555,\n",
       "                  'emergencies': 0.0,\n",
       "                  'emergency_from_actual': 0.0,\n",
       "                  'error': 0.0},\n",
       "                 'emergencies': {'delays': 0.0,\n",
       "                  'delays_from_actual': 0.0,\n",
       "                  'emergencies': 3.3497600732060566,\n",
       "                  'emergency_from_actual': 0.0,\n",
       "                  'error': 0.0},\n",
       "                 'emergency_from_actual': {'delays': 0.0,\n",
       "                  'delays_from_actual': 0.0,\n",
       "                  'emergencies': 0.0,\n",
       "                  'emergency_from_actual': 2.3076368400635804e-05,\n",
       "                  'error': 0.0},\n",
       "                 'error': {'delays': 0.0,\n",
       "                  'delays_from_actual': 0.0,\n",
       "                  'emergencies': 0.0,\n",
       "                  'emergency_from_actual': 0.0,\n",
       "                  'error': 63.0468224033989}}))),\n",
       "             (19,\n",
       "              ({'dd-los': 72.60725041166074,\n",
       "                'gw-non-covid-los': 5.0,\n",
       "                'syswatch-scale': 0.9246064753528535},\n",
       "               ({'delays': 102.80179899033602,\n",
       "                 'delays_from_actual': 0.03218902587412159,\n",
       "                 'emergencies': 389.55401650713554,\n",
       "                 'emergency_from_actual': 0.022451481211947233,\n",
       "                 'error': 6.415427937079016},\n",
       "                {'delays': {'delays': 3.8257099546830506,\n",
       "                  'delays_from_actual': 0.0,\n",
       "                  'emergencies': 0.0,\n",
       "                  'emergency_from_actual': 0.0,\n",
       "                  'error': 0.0},\n",
       "                 'delays_from_actual': {'delays': 0.0,\n",
       "                  'delays_from_actual': 0.00014254075104351075,\n",
       "                  'emergencies': 0.0,\n",
       "                  'emergency_from_actual': 0.0,\n",
       "                  'error': 0.0},\n",
       "                 'emergencies': {'delays': 0.0,\n",
       "                  'delays_from_actual': 0.0,\n",
       "                  'emergencies': 2.259678828234024,\n",
       "                  'emergency_from_actual': 0.0,\n",
       "                  'error': 0.0},\n",
       "                 'emergency_from_actual': {'delays': 0.0,\n",
       "                  'delays_from_actual': 0.0,\n",
       "                  'emergencies': 0.0,\n",
       "                  'emergency_from_actual': 1.5566844151214218e-05,\n",
       "                  'error': 0.0},\n",
       "                 'error': {'delays': 0.0,\n",
       "                  'delays_from_actual': 0.0,\n",
       "                  'emergencies': 0.0,\n",
       "                  'emergency_from_actual': 0.0,\n",
       "                  'error': 53.249621171041404}}))),\n",
       "             (15,\n",
       "              ({'dd-los': 80.0,\n",
       "                'gw-non-covid-los': 5.0,\n",
       "                'syswatch-scale': 0.9597563975358816},\n",
       "               ({'delays': 100.15779561157126,\n",
       "                 'delays_from_actual': 0.03487433134346271,\n",
       "                 'emergencies': 389.17075580949535,\n",
       "                 'emergency_from_actual': 0.021445557192913786,\n",
       "                 'error': 6.286065987844552},\n",
       "                {'delays': {'delays': 4.3905768797625075,\n",
       "                  'delays_from_actual': 0.0,\n",
       "                  'emergencies': 0.0,\n",
       "                  'emergency_from_actual': 0.0,\n",
       "                  'error': 0.0},\n",
       "                 'delays_from_actual': {'delays': 0.0,\n",
       "                  'delays_from_actual': 0.00016826667763371865,\n",
       "                  'emergencies': 0.0,\n",
       "                  'emergency_from_actual': 0.0,\n",
       "                  'error': 0.0},\n",
       "                 'emergencies': {'delays': 0.0,\n",
       "                  'delays_from_actual': 0.0,\n",
       "                  'emergencies': 2.8245058689124805,\n",
       "                  'emergency_from_actual': 0.0,\n",
       "                  'error': 0.0},\n",
       "                 'emergency_from_actual': {'delays': 0.0,\n",
       "                  'delays_from_actual': 0.0,\n",
       "                  'emergencies': 0.0,\n",
       "                  'emergency_from_actual': 1.945790625053864e-05,\n",
       "                  'error': 0.0},\n",
       "                 'error': {'delays': 0.0,\n",
       "                  'delays_from_actual': 0.0,\n",
       "                  'emergencies': 0.0,\n",
       "                  'emergency_from_actual': 0.0,\n",
       "                  'error': 54.25010780920289}})))])"
      ]
     },
     "execution_count": 75,
     "metadata": {},
     "output_type": "execute_result"
    }
   ],
   "source": [
    "ax_client.get_pareto_optimal_parameters()"
   ]
  },
  {
   "cell_type": "code",
   "execution_count": 66,
   "metadata": {},
   "outputs": [],
   "source": [
    "ehvi_model = Models.BOTORCH_MODULAR(\n",
    "    experiment=ax_client.experiment,\n",
    "    data=same_data,\n",
    ")"
   ]
  },
  {
   "cell_type": "code",
   "execution_count": 67,
   "metadata": {},
   "outputs": [
    {
     "data": {
      "text/plain": [
       "TorchModelBridge(model=BoTorchModel)"
      ]
     },
     "execution_count": 67,
     "metadata": {},
     "output_type": "execute_result"
    }
   ],
   "source": [
    "ehvi_model"
   ]
  },
  {
   "cell_type": "code",
   "execution_count": 69,
   "metadata": {},
   "outputs": [
    {
     "data": {
      "text/plain": [
       "0.0012286908178038224"
      ]
     },
     "execution_count": 69,
     "metadata": {},
     "output_type": "execute_result"
    }
   ],
   "source": [
    "hv = observed_hypervolume(modelbridge=ehvi_model)\n",
    "hv"
   ]
  },
  {
   "cell_type": "code",
   "execution_count": 70,
   "metadata": {},
   "outputs": [
    {
     "data": {
      "text/plain": [
       "0.0008080698854580234"
      ]
     },
     "execution_count": 70,
     "metadata": {},
     "output_type": "execute_result"
    }
   ],
   "source": [
    "ax_client.get_hypervolume()"
   ]
  },
  {
   "cell_type": "code",
   "execution_count": 71,
   "metadata": {},
   "outputs": [
    {
     "data": {
      "text/plain": [
       "0.0008080698854580234"
      ]
     },
     "execution_count": 71,
     "metadata": {},
     "output_type": "execute_result"
    }
   ],
   "source": [
    "ax_client.get_hypervolume()"
   ]
  },
  {
   "cell_type": "code",
   "execution_count": 76,
   "metadata": {},
   "outputs": [
    {
     "data": {
      "text/html": [
       "<div>\n",
       "<style scoped>\n",
       "    .dataframe tbody tr th:only-of-type {\n",
       "        vertical-align: middle;\n",
       "    }\n",
       "\n",
       "    .dataframe tbody tr th {\n",
       "        vertical-align: top;\n",
       "    }\n",
       "\n",
       "    .dataframe thead th {\n",
       "        text-align: right;\n",
       "    }\n",
       "</style>\n",
       "<table border=\"1\" class=\"dataframe\">\n",
       "  <thead>\n",
       "    <tr style=\"text-align: right;\">\n",
       "      <th></th>\n",
       "      <th>arm_name</th>\n",
       "      <th>metric_name</th>\n",
       "      <th>mean</th>\n",
       "      <th>sem</th>\n",
       "      <th>trial_index</th>\n",
       "    </tr>\n",
       "  </thead>\n",
       "  <tbody>\n",
       "    <tr>\n",
       "      <th>0</th>\n",
       "      <td>0_0</td>\n",
       "      <td>emergency_from_actual</td>\n",
       "      <td>0.182525</td>\n",
       "      <td>NaN</td>\n",
       "      <td>0</td>\n",
       "    </tr>\n",
       "    <tr>\n",
       "      <th>1</th>\n",
       "      <td>0_0</td>\n",
       "      <td>delays_from_actual</td>\n",
       "      <td>0.085149</td>\n",
       "      <td>NaN</td>\n",
       "      <td>0</td>\n",
       "    </tr>\n",
       "    <tr>\n",
       "      <th>2</th>\n",
       "      <td>0_0</td>\n",
       "      <td>emergencies</td>\n",
       "      <td>450.542069</td>\n",
       "      <td>NaN</td>\n",
       "      <td>0</td>\n",
       "    </tr>\n",
       "    <tr>\n",
       "      <th>3</th>\n",
       "      <td>0_0</td>\n",
       "      <td>delays</td>\n",
       "      <td>95.144525</td>\n",
       "      <td>NaN</td>\n",
       "      <td>0</td>\n",
       "    </tr>\n",
       "    <tr>\n",
       "      <th>4</th>\n",
       "      <td>0_0</td>\n",
       "      <td>error</td>\n",
       "      <td>146.036650</td>\n",
       "      <td>NaN</td>\n",
       "      <td>0</td>\n",
       "    </tr>\n",
       "    <tr>\n",
       "      <th>...</th>\n",
       "      <td>...</td>\n",
       "      <td>...</td>\n",
       "      <td>...</td>\n",
       "      <td>...</td>\n",
       "      <td>...</td>\n",
       "    </tr>\n",
       "    <tr>\n",
       "      <th>95</th>\n",
       "      <td>19_0</td>\n",
       "      <td>emergency_from_actual</td>\n",
       "      <td>0.024440</td>\n",
       "      <td>NaN</td>\n",
       "      <td>19</td>\n",
       "    </tr>\n",
       "    <tr>\n",
       "      <th>96</th>\n",
       "      <td>19_0</td>\n",
       "      <td>delays_from_actual</td>\n",
       "      <td>0.042528</td>\n",
       "      <td>NaN</td>\n",
       "      <td>19</td>\n",
       "    </tr>\n",
       "    <tr>\n",
       "      <th>97</th>\n",
       "      <td>19_0</td>\n",
       "      <td>emergencies</td>\n",
       "      <td>390.311731</td>\n",
       "      <td>NaN</td>\n",
       "      <td>19</td>\n",
       "    </tr>\n",
       "    <tr>\n",
       "      <th>98</th>\n",
       "      <td>19_0</td>\n",
       "      <td>delays</td>\n",
       "      <td>99.577139</td>\n",
       "      <td>NaN</td>\n",
       "      <td>19</td>\n",
       "    </tr>\n",
       "    <tr>\n",
       "      <th>99</th>\n",
       "      <td>19_0</td>\n",
       "      <td>error</td>\n",
       "      <td>8.661292</td>\n",
       "      <td>NaN</td>\n",
       "      <td>19</td>\n",
       "    </tr>\n",
       "  </tbody>\n",
       "</table>\n",
       "<p>100 rows × 5 columns</p>\n",
       "</div>"
      ],
      "text/plain": [
       "   arm_name            metric_name        mean  sem  trial_index\n",
       "0       0_0  emergency_from_actual    0.182525  NaN            0\n",
       "1       0_0     delays_from_actual    0.085149  NaN            0\n",
       "2       0_0            emergencies  450.542069  NaN            0\n",
       "3       0_0                 delays   95.144525  NaN            0\n",
       "4       0_0                  error  146.036650  NaN            0\n",
       "..      ...                    ...         ...  ...          ...\n",
       "95     19_0  emergency_from_actual    0.024440  NaN           19\n",
       "96     19_0     delays_from_actual    0.042528  NaN           19\n",
       "97     19_0            emergencies  390.311731  NaN           19\n",
       "98     19_0                 delays   99.577139  NaN           19\n",
       "99     19_0                  error    8.661292  NaN           19\n",
       "\n",
       "[100 rows x 5 columns]"
      ]
     },
     "execution_count": 76,
     "metadata": {},
     "output_type": "execute_result"
    }
   ],
   "source": [
    "same_data.df"
   ]
  },
  {
   "cell_type": "code",
   "execution_count": 80,
   "metadata": {},
   "outputs": [
    {
     "ename": "TypeError",
     "evalue": "Data._get_records() missing 2 required positional arguments: 'evaluations' and 'trial_index'",
     "output_type": "error",
     "traceback": [
      "\u001b[1;31m---------------------------------------------------------------------------\u001b[0m",
      "\u001b[1;31mTypeError\u001b[0m                                 Traceback (most recent call last)",
      "Cell \u001b[1;32mIn[80], line 1\u001b[0m\n\u001b[1;32m----> 1\u001b[0m \u001b[43msame_data\u001b[49m\u001b[38;5;241;43m.\u001b[39;49m\u001b[43m_get_records\u001b[49m\u001b[43m(\u001b[49m\u001b[43m)\u001b[49m\n",
      "\u001b[1;31mTypeError\u001b[0m: Data._get_records() missing 2 required positional arguments: 'evaluations' and 'trial_index'"
     ]
    }
   ],
   "source": [
    "same_data._get_records()"
   ]
  },
  {
   "cell_type": "code",
   "execution_count": 81,
   "metadata": {},
   "outputs": [
    {
     "name": "stdout",
     "output_type": "stream",
     "text": [
      "\u001b[1;31mSignature:\u001b[0m\n",
      "\u001b[0max_client\u001b[0m\u001b[1;33m.\u001b[0m\u001b[0mparameter_from_json\u001b[0m\u001b[1;33m(\u001b[0m\u001b[1;33m\n",
      "\u001b[0m    \u001b[0mrepresentation\u001b[0m\u001b[1;33m:\u001b[0m \u001b[0mDict\u001b[0m\u001b[1;33m[\u001b[0m\u001b[0mstr\u001b[0m\u001b[1;33m,\u001b[0m \u001b[0mUnion\u001b[0m\u001b[1;33m[\u001b[0m\u001b[0mNoneType\u001b[0m\u001b[1;33m,\u001b[0m \u001b[0mstr\u001b[0m\u001b[1;33m,\u001b[0m \u001b[0mbool\u001b[0m\u001b[1;33m,\u001b[0m \u001b[0mfloat\u001b[0m\u001b[1;33m,\u001b[0m \u001b[0mint\u001b[0m\u001b[1;33m,\u001b[0m \u001b[0mSequence\u001b[0m\u001b[1;33m[\u001b[0m\u001b[0mUnion\u001b[0m\u001b[1;33m[\u001b[0m\u001b[0mNoneType\u001b[0m\u001b[1;33m,\u001b[0m \u001b[0mstr\u001b[0m\u001b[1;33m,\u001b[0m \u001b[0mbool\u001b[0m\u001b[1;33m,\u001b[0m \u001b[0mfloat\u001b[0m\u001b[1;33m,\u001b[0m \u001b[0mint\u001b[0m\u001b[1;33m]\u001b[0m\u001b[1;33m]\u001b[0m\u001b[1;33m,\u001b[0m \u001b[0mDict\u001b[0m\u001b[1;33m[\u001b[0m\u001b[0mstr\u001b[0m\u001b[1;33m,\u001b[0m \u001b[0mList\u001b[0m\u001b[1;33m[\u001b[0m\u001b[0mstr\u001b[0m\u001b[1;33m]\u001b[0m\u001b[1;33m]\u001b[0m\u001b[1;33m]\u001b[0m\u001b[1;33m]\u001b[0m\u001b[1;33m,\u001b[0m\u001b[1;33m\n",
      "\u001b[0m\u001b[1;33m)\u001b[0m \u001b[1;33m->\u001b[0m \u001b[0max\u001b[0m\u001b[1;33m.\u001b[0m\u001b[0mcore\u001b[0m\u001b[1;33m.\u001b[0m\u001b[0mparameter\u001b[0m\u001b[1;33m.\u001b[0m\u001b[0mParameter\u001b[0m\u001b[1;33m\u001b[0m\u001b[1;33m\u001b[0m\u001b[0m\n",
      "\u001b[1;31mDocstring:\u001b[0m Instantiate a parameter from JSON representation.\n",
      "\u001b[1;31mFile:\u001b[0m      c:\\users\\hannag01\\documents\\parallel-bayesopt-experiments\\venv\\lib\\site-packages\\ax\\service\\utils\\instantiation.py\n",
      "\u001b[1;31mType:\u001b[0m      method"
     ]
    }
   ],
   "source": [
    "ax_client.attach_trial"
   ]
  },
  {
   "cell_type": "code",
   "execution_count": 82,
   "metadata": {},
   "outputs": [
    {
     "data": {
      "text/html": [
       "<div>\n",
       "<style scoped>\n",
       "    .dataframe tbody tr th:only-of-type {\n",
       "        vertical-align: middle;\n",
       "    }\n",
       "\n",
       "    .dataframe tbody tr th {\n",
       "        vertical-align: top;\n",
       "    }\n",
       "\n",
       "    .dataframe thead th {\n",
       "        text-align: right;\n",
       "    }\n",
       "</style>\n",
       "<table border=\"1\" class=\"dataframe\">\n",
       "  <thead>\n",
       "    <tr style=\"text-align: right;\">\n",
       "      <th></th>\n",
       "      <th>arm_name</th>\n",
       "      <th>metric_name</th>\n",
       "      <th>mean</th>\n",
       "      <th>sem</th>\n",
       "      <th>trial_index</th>\n",
       "    </tr>\n",
       "  </thead>\n",
       "  <tbody>\n",
       "    <tr>\n",
       "      <th>0</th>\n",
       "      <td>0_0</td>\n",
       "      <td>emergency_from_actual</td>\n",
       "      <td>0.182525</td>\n",
       "      <td>NaN</td>\n",
       "      <td>0</td>\n",
       "    </tr>\n",
       "    <tr>\n",
       "      <th>1</th>\n",
       "      <td>0_0</td>\n",
       "      <td>delays_from_actual</td>\n",
       "      <td>0.085149</td>\n",
       "      <td>NaN</td>\n",
       "      <td>0</td>\n",
       "    </tr>\n",
       "    <tr>\n",
       "      <th>2</th>\n",
       "      <td>0_0</td>\n",
       "      <td>emergencies</td>\n",
       "      <td>450.542069</td>\n",
       "      <td>NaN</td>\n",
       "      <td>0</td>\n",
       "    </tr>\n",
       "    <tr>\n",
       "      <th>3</th>\n",
       "      <td>0_0</td>\n",
       "      <td>delays</td>\n",
       "      <td>95.144525</td>\n",
       "      <td>NaN</td>\n",
       "      <td>0</td>\n",
       "    </tr>\n",
       "    <tr>\n",
       "      <th>4</th>\n",
       "      <td>0_0</td>\n",
       "      <td>error</td>\n",
       "      <td>146.036650</td>\n",
       "      <td>NaN</td>\n",
       "      <td>0</td>\n",
       "    </tr>\n",
       "    <tr>\n",
       "      <th>...</th>\n",
       "      <td>...</td>\n",
       "      <td>...</td>\n",
       "      <td>...</td>\n",
       "      <td>...</td>\n",
       "      <td>...</td>\n",
       "    </tr>\n",
       "    <tr>\n",
       "      <th>95</th>\n",
       "      <td>19_0</td>\n",
       "      <td>emergency_from_actual</td>\n",
       "      <td>0.024440</td>\n",
       "      <td>NaN</td>\n",
       "      <td>19</td>\n",
       "    </tr>\n",
       "    <tr>\n",
       "      <th>96</th>\n",
       "      <td>19_0</td>\n",
       "      <td>delays_from_actual</td>\n",
       "      <td>0.042528</td>\n",
       "      <td>NaN</td>\n",
       "      <td>19</td>\n",
       "    </tr>\n",
       "    <tr>\n",
       "      <th>97</th>\n",
       "      <td>19_0</td>\n",
       "      <td>emergencies</td>\n",
       "      <td>390.311731</td>\n",
       "      <td>NaN</td>\n",
       "      <td>19</td>\n",
       "    </tr>\n",
       "    <tr>\n",
       "      <th>98</th>\n",
       "      <td>19_0</td>\n",
       "      <td>delays</td>\n",
       "      <td>99.577139</td>\n",
       "      <td>NaN</td>\n",
       "      <td>19</td>\n",
       "    </tr>\n",
       "    <tr>\n",
       "      <th>99</th>\n",
       "      <td>19_0</td>\n",
       "      <td>error</td>\n",
       "      <td>8.661292</td>\n",
       "      <td>NaN</td>\n",
       "      <td>19</td>\n",
       "    </tr>\n",
       "  </tbody>\n",
       "</table>\n",
       "<p>100 rows × 5 columns</p>\n",
       "</div>"
      ],
      "text/plain": [
       "   arm_name            metric_name        mean  sem  trial_index\n",
       "0       0_0  emergency_from_actual    0.182525  NaN            0\n",
       "1       0_0     delays_from_actual    0.085149  NaN            0\n",
       "2       0_0            emergencies  450.542069  NaN            0\n",
       "3       0_0                 delays   95.144525  NaN            0\n",
       "4       0_0                  error  146.036650  NaN            0\n",
       "..      ...                    ...         ...  ...          ...\n",
       "95     19_0  emergency_from_actual    0.024440  NaN           19\n",
       "96     19_0     delays_from_actual    0.042528  NaN           19\n",
       "97     19_0            emergencies  390.311731  NaN           19\n",
       "98     19_0                 delays   99.577139  NaN           19\n",
       "99     19_0                  error    8.661292  NaN           19\n",
       "\n",
       "[100 rows x 5 columns]"
      ]
     },
     "execution_count": 82,
     "metadata": {},
     "output_type": "execute_result"
    }
   ],
   "source": [
    "same_data.df"
   ]
  },
  {
   "cell_type": "code",
   "execution_count": 39,
   "metadata": {},
   "outputs": [
    {
     "ename": "NameError",
     "evalue": "name 'ax_client' is not defined",
     "output_type": "error",
     "traceback": [
      "\u001b[1;31m---------------------------------------------------------------------------\u001b[0m",
      "\u001b[1;31mNameError\u001b[0m                                 Traceback (most recent call last)",
      "Cell \u001b[1;32mIn[39], line 1\u001b[0m\n\u001b[1;32m----> 1\u001b[0m \u001b[43max_client\u001b[49m\n",
      "\u001b[1;31mNameError\u001b[0m: name 'ax_client' is not defined"
     ]
    }
   ],
   "source": [
    "ax_client"
   ]
  },
  {
   "cell_type": "code",
   "execution_count": null,
   "metadata": {},
   "outputs": [],
   "source": []
  }
 ],
 "metadata": {
  "kernelspec": {
   "display_name": "venv",
   "language": "python",
   "name": "python3"
  },
  "language_info": {
   "codemirror_mode": {
    "name": "ipython",
    "version": 3
   },
   "file_extension": ".py",
   "mimetype": "text/x-python",
   "name": "python",
   "nbconvert_exporter": "python",
   "pygments_lexer": "ipython3",
   "version": "3.10.11"
  }
 },
 "nbformat": 4,
 "nbformat_minor": 2
}
